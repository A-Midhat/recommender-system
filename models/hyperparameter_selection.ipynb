{
  "cells": [
    {
      "cell_type": "code",
      "execution_count": null,
      "id": "6addfc09",
      "metadata": {
        "id": "6addfc09"
      },
      "outputs": [],
      "source": [
        "import pandas as pd\n",
        "import numpy as np\n",
        "import matplotlib.pyplot as plt\n",
        "import time\n",
        "from collections import Counter\n",
        "from itertools import product\n",
        "from tqdm import tqdm"
      ]
    },
    {
      "cell_type": "code",
      "execution_count": null,
      "id": "82cb7999",
      "metadata": {
        "id": "82cb7999",
        "outputId": "0951a9a1-d1d7-488b-d31f-43d91dfe9286"
      },
      "outputs": [
        {
          "name": "stdout",
          "output_type": "stream",
          "text": [
            "Archive:  ml-latest-small.zip\n",
            "   creating: ml-latest-small/\n",
            "  inflating: ml-latest-small/links.csv  \n",
            "  inflating: ml-latest-small/tags.csv  \n",
            "  inflating: ml-latest-small/ratings.csv  \n",
            "  inflating: ml-latest-small/README.txt  \n",
            "  inflating: ml-latest-small/movies.csv  \n"
          ]
        }
      ],
      "source": [
        "# !unzip \"ml-latest-small.zip\""
      ]
    },
    {
      "cell_type": "code",
      "execution_count": null,
      "id": "9f0c6c86",
      "metadata": {
        "id": "9f0c6c86",
        "outputId": "d767e1d0-b9d5-4839-dea7-1ae5ef3da75f"
      },
      "outputs": [
        {
          "data": {
            "text/html": [
              "<div>\n",
              "<style scoped>\n",
              "    .dataframe tbody tr th:only-of-type {\n",
              "        vertical-align: middle;\n",
              "    }\n",
              "\n",
              "    .dataframe tbody tr th {\n",
              "        vertical-align: top;\n",
              "    }\n",
              "\n",
              "    .dataframe thead th {\n",
              "        text-align: right;\n",
              "    }\n",
              "</style>\n",
              "<table border=\"1\" class=\"dataframe\">\n",
              "  <thead>\n",
              "    <tr style=\"text-align: right;\">\n",
              "      <th></th>\n",
              "      <th>userId</th>\n",
              "      <th>movieId</th>\n",
              "      <th>rating</th>\n",
              "      <th>timestamp</th>\n",
              "    </tr>\n",
              "  </thead>\n",
              "  <tbody>\n",
              "    <tr>\n",
              "      <th>0</th>\n",
              "      <td>1</td>\n",
              "      <td>1</td>\n",
              "      <td>4.0</td>\n",
              "      <td>964982703</td>\n",
              "    </tr>\n",
              "    <tr>\n",
              "      <th>1</th>\n",
              "      <td>1</td>\n",
              "      <td>3</td>\n",
              "      <td>4.0</td>\n",
              "      <td>964981247</td>\n",
              "    </tr>\n",
              "    <tr>\n",
              "      <th>2</th>\n",
              "      <td>1</td>\n",
              "      <td>6</td>\n",
              "      <td>4.0</td>\n",
              "      <td>964982224</td>\n",
              "    </tr>\n",
              "    <tr>\n",
              "      <th>3</th>\n",
              "      <td>1</td>\n",
              "      <td>47</td>\n",
              "      <td>5.0</td>\n",
              "      <td>964983815</td>\n",
              "    </tr>\n",
              "    <tr>\n",
              "      <th>4</th>\n",
              "      <td>1</td>\n",
              "      <td>50</td>\n",
              "      <td>5.0</td>\n",
              "      <td>964982931</td>\n",
              "    </tr>\n",
              "  </tbody>\n",
              "</table>\n",
              "</div>"
            ],
            "text/plain": [
              "   userId  movieId  rating  timestamp\n",
              "0       1        1     4.0  964982703\n",
              "1       1        3     4.0  964981247\n",
              "2       1        6     4.0  964982224\n",
              "3       1       47     5.0  964983815\n",
              "4       1       50     5.0  964982931"
            ]
          },
          "execution_count": 3,
          "metadata": {},
          "output_type": "execute_result"
        }
      ],
      "source": [
        "# File path for the ratings CSV\n",
        "file_path = \"./content/ml-latest-mall/ratings.csv\"\n",
        "\n",
        "ratings_df = pd.read_csv(file_path)\n",
        "\n",
        "ratings_df.head()"
      ]
    },
    {
      "cell_type": "code",
      "execution_count": null,
      "id": "188b897a",
      "metadata": {
        "id": "188b897a"
      },
      "outputs": [],
      "source": [
        "# Load the ratings dataset manually\n",
        "ratings_dataset = []\n",
        "with open(file_path, \"r\") as file:\n",
        "    next(file)  # Skip the header line\n",
        "    for line in file:\n",
        "        user_id, movie_id, rating, _ = line.strip().split(\",\")\n",
        "        ratings_dataset.append((int(user_id), int(movie_id), float(rating)))\n"
      ]
    },
    {
      "cell_type": "code",
      "execution_count": null,
      "id": "1c0922a1",
      "metadata": {
        "id": "1c0922a1"
      },
      "outputs": [],
      "source": [
        "# Create mappings for user IDs and movie IDs\n",
        "USER_TO_IDX = {user_id: user_idx for user_idx, user_id in enumerate(ratings_df[\"userId\"].unique())}\n",
        "MOVIE_TO_IDX = {movie_id: movie_idx for movie_idx, movie_id in enumerate(ratings_df[\"movieId\"].unique())}\n",
        "\n",
        "# Reverse mappings for index-to-ID conversions\n",
        "idx_to_user = list(USER_TO_IDX.keys())  # List of user IDs by index\n",
        "idx_to_movie = list(MOVIE_TO_IDX.keys())  # List of movie IDs by index"
      ]
    },
    {
      "cell_type": "code",
      "execution_count": null,
      "id": "239b185b",
      "metadata": {
        "id": "239b185b",
        "outputId": "bcd518e1-bba3-4181-af70-8b4514bd7712"
      },
      "outputs": [
        {
          "data": {
            "text/plain": [
              "(610, 9724)"
            ]
          },
          "execution_count": 6,
          "metadata": {},
          "output_type": "execute_result"
        }
      ],
      "source": [
        "# Calculate the total number of unique users and movies\n",
        "NUM_USERS = len(idx_to_user)\n",
        "NUM_MOVIES = len(idx_to_movie)\n",
        "\n",
        "# Output the number of users and movies\n",
        "NUM_USERS, NUM_MOVIES"
      ]
    },
    {
      "cell_type": "code",
      "execution_count": null,
      "id": "768f7691",
      "metadata": {
        "id": "768f7691"
      },
      "outputs": [],
      "source": [
        "# Initialize data structures to store user and movie data\n",
        "USERS_DATA = [[] for _ in range(NUM_USERS)]  # Each user will have a list of (movieIdx, rating) tuples\n",
        "MOVIES_DATA = [[] for _ in range(NUM_MOVIES)]  # Each movie will have a list of (userIdx, rating) tuples\n",
        "\n",
        "# Populate USERS_DATA and MOVIES_DATA\n",
        "for user_id, movie_id, rating in ratings_dataset:\n",
        "    user_idx = USER_TO_IDX[user_id]\n",
        "    movie_idx = MOVIE_TO_IDX[movie_id]\n",
        "    USERS_DATA[user_idx].append((movie_idx, rating))\n",
        "    MOVIES_DATA[movie_idx].append((user_idx, rating))"
      ]
    },
    {
      "cell_type": "code",
      "execution_count": null,
      "id": "c686f46d",
      "metadata": {
        "id": "c686f46d",
        "outputId": "2ba50768-b1b8-45f0-da03-65092fdb41d1"
      },
      "outputs": [
        {
          "data": {
            "image/png": "[encoded data removed]",
            "text/plain": [
              "<Figure size 640x480 with 1 Axes>"
            ]
          },
          "metadata": {},
          "output_type": "display_data"
        }
      ],
      "source": [
        "# Calculate the number of ratings per movie and per user\n",
        "ratings_per_movie = [len(movie_data) for movie_data in MOVIES_DATA]\n",
        "ratings_per_user = [len(user_data) for user_data in USERS_DATA]\n",
        "\n",
        "# Count the frequency of rating counts\n",
        "user_rating_frequency = Counter(ratings_per_user)\n",
        "movie_rating_frequency = Counter(ratings_per_movie)\n",
        "\n",
        "# Plot the power law distribution for users and movies\n",
        "plt.loglog(\n",
        "    user_rating_frequency.keys(),\n",
        "    user_rating_frequency.values(),\n",
        "    \".\",\n",
        "    color=\"g\",\n",
        "    alpha=0.2,\n",
        "    label=\"Users\"\n",
        ")\n",
        "plt.loglog(\n",
        "    movie_rating_frequency.keys(),\n",
        "    movie_rating_frequency.values(),\n",
        "    \".\",\n",
        "    color=\"b\",\n",
        "    alpha=0.2,\n",
        "    label=\"Movies\"\n",
        ")\n",
        "\n",
        "# Add labels, title, grid, and legend\n",
        "plt.ylabel(\"Frequency\")\n",
        "plt.xlabel(\"Rank\")\n",
        "plt.title(\"Power Law Distribution of Movie Ratings\")\n",
        "plt.grid(linestyle='--', alpha=0.7)\n",
        "plt.legend()\n",
        "plt.show()\n"
      ]
    },
    {
      "cell_type": "code",
      "execution_count": null,
      "id": "483b7aeb",
      "metadata": {
        "id": "483b7aeb"
      },
      "outputs": [],
      "source": [
        "def init_empty_data(size):\n",
        "    \"\"\"\n",
        "    Initializes a list of empty lists with a specified size.\n",
        "\n",
        "    Parameters:\n",
        "    size (int): The number of empty lists to create.\n",
        "\n",
        "    Returns:\n",
        "    list: A list of empty lists.\n",
        "    \"\"\"\n",
        "    return [[] for _ in range(size)]\n",
        "\n",
        "def create_user_ds(user_data):\n",
        "    \"\"\"\n",
        "    Creates user-specific datasets for watched movies and given ratings.\n",
        "\n",
        "    Parameters:\n",
        "    user_data (list): A list of user interactions with movies.\n",
        "\n",
        "    Returns:\n",
        "    tuple: Two lists - one with movie IDs watched by each user and one with their corresponding ratings.\n",
        "    \"\"\"\n",
        "    users_watched_movies = [[] for _ in range(len(user_data))]\n",
        "    users_given_ratings = [[] for _ in range(len(user_data))]\n",
        "\n",
        "    for user_idx, user_movies in enumerate(user_data):\n",
        "        users_watched_movies[user_idx] = [movie_id for movie_id, _ in user_movies]\n",
        "        users_given_ratings[user_idx] = [rating for _, rating in user_movies]\n",
        "\n",
        "    return users_watched_movies, users_given_ratings\n",
        "\n",
        "def create_movie_ds(movie_data):\n",
        "    \"\"\"\n",
        "    Creates movie-specific datasets for users who watched and their ratings.\n",
        "\n",
        "    Parameters:\n",
        "    movie_data (list): A list of movie interactions with users.\n",
        "\n",
        "    Returns:\n",
        "    tuple: Two lists - one with user IDs who watched each movie and one with their corresponding ratings.\n",
        "    \"\"\"\n",
        "    movies_watched_by_users = [[] for _ in range(len(movie_data))]\n",
        "    movies_received_ratings = [[] for _ in range(len(movie_data))]\n",
        "\n",
        "    for movie_idx, movie_users in enumerate(movie_data):\n",
        "        movies_watched_by_users[movie_idx] = [user_id for user_id, _ in movie_users]\n",
        "        movies_received_ratings[movie_idx] = [rating for _, rating in movie_users]\n",
        "\n",
        "    return movies_watched_by_users, movies_received_ratings\n",
        "\n",
        "def split_data(data, test_ratio):\n",
        "    \"\"\"\n",
        "    Splits the data into training and testing sets based on a given ratio.\n",
        "\n",
        "    Parameters:\n",
        "    data (list): The data to be split.\n",
        "    test_ratio (float): The proportion of data to allocate to the test set.\n",
        "\n",
        "    Returns:\n",
        "    tuple: Training and testing datasets.\n",
        "    \"\"\"\n",
        "    train, test = init_empty_data(len(data)), init_empty_data(len(data))\n",
        "\n",
        "    for idx, interactions in enumerate(data):\n",
        "        for interaction in interactions:\n",
        "            if np.random.rand() > test_ratio:\n",
        "                train[idx].append(interaction)\n",
        "            else:\n",
        "                test[idx].append(interaction)\n",
        "\n",
        "    return train, test\n",
        "\n",
        "\n",
        "def split(users_data, movies_data, test_ratio=0.1):\n",
        "    \"\"\"\n",
        "    Splits user and movie data into training and testing sets.\n",
        "\n",
        "    Parameters:\n",
        "    users_data (list): User interaction data.\n",
        "    movies_data (list): Movie interaction data.\n",
        "    test_ratio (float): Proportion of data to allocate to the test set (default is 0.1).\n",
        "\n",
        "    Returns:\n",
        "    tuple: Training and testing datasets as dictionaries.\n",
        "    \"\"\"\n",
        "    # Split user and movie data\n",
        "    users_data_train, users_data_test = split_data(users_data, test_ratio)\n",
        "    movies_data_train, movies_data_test = split_data(movies_data, test_ratio)\n",
        "\n",
        "    # Train data\n",
        "    train_data = {\n",
        "        \"users_watched_movies\": create_user_ds(users_data_train)[0],\n",
        "        \"users_given_ratings\": create_user_ds(users_data_train)[1],\n",
        "        \"movies_watched_by_users\": create_movie_ds(movies_data_train)[0],\n",
        "        \"movies_received_ratings\": create_movie_ds(movies_data_train)[1]\n",
        "    }\n",
        "\n",
        "    # Test data\n",
        "    test_data = {\n",
        "        \"users_watched_movies\": create_user_ds(users_data_test)[0],\n",
        "        \"users_given_ratings\": create_user_ds(users_data_test)[1],\n",
        "        \"movies_watched_by_users\": create_movie_ds(movies_data_test)[0],\n",
        "        \"movies_received_ratings\": create_movie_ds(movies_data_test)[1]\n",
        "    }\n",
        "\n",
        "    return train_data, test_data"
      ]
    },
    {
      "cell_type": "code",
      "execution_count": null,
      "id": "6fcf243a",
      "metadata": {
        "id": "6fcf243a"
      },
      "outputs": [],
      "source": [
        "def init_biases(num_users, num_movies):\n",
        "    \"\"\"\n",
        "    Initializes biases for users and movies.\n",
        "\n",
        "    Parameters:\n",
        "    num_users (int): Number of users.\n",
        "    num_movies (int): Number of movies.\n",
        "\n",
        "    Returns:\n",
        "    tuple: Arrays of user biases and movie biases initialized to zero.\n",
        "    \"\"\"\n",
        "    user_biases = np.zeros(num_users)\n",
        "    movie_biases = np.zeros(num_movies)\n",
        "    return user_biases, movie_biases\n",
        "\n",
        "def init_latent_matrices(num_users, num_movies, k, seed=None):\n",
        "    \"\"\"\n",
        "    Initializes latent matrices for users and movies.\n",
        "\n",
        "    Parameters:\n",
        "    num_users (int): Number of users.\n",
        "    num_movies (int): Number of movies.\n",
        "    k (int): Number of latent factors.\n",
        "    seed (int, optional): Random seed for reproducibility. Default is None.\n",
        "\n",
        "    Returns:\n",
        "    tuple: User latent matrix and movie latent matrix.\n",
        "    \"\"\"\n",
        "    if seed is not None:\n",
        "        np.random.seed(seed)\n",
        "\n",
        "    # Initialize latent matrices with random values scaled by 1/sqrt(k)\n",
        "    user_latents = np.random.normal(size=(num_users, k), scale=1 / np.sqrt(k))\n",
        "    movie_latents = np.random.normal(size=(num_movies, k), scale=1 / np.sqrt(k))\n",
        "\n",
        "    return user_latents, movie_latents\n",
        "\n",
        "\n",
        "def update_users_biases(users_movies_data, users_ratings_data, movie_biases, lambda_, gamma):\n",
        "    \"\"\"\n",
        "    Updates user biases based on observed ratings and movie biases.\n",
        "\n",
        "    Parameters:\n",
        "    users_movies_data (list): List of movies rated by each user.\n",
        "    users_ratings_data (list): List of ratings given by each user.\n",
        "    movie_biases (ndarray): Array of movie biases.\n",
        "    lambda_ (float): Regularization parameter.\n",
        "    gamma (float): Weight parameter.\n",
        "\n",
        "    Returns:\n",
        "    None: Updates user_biases in place.\n",
        "    \"\"\"\n",
        "    for i in range(len(users_movies_data)):\n",
        "        user_movies = users_movies_data[i]  # Movies rated by the user\n",
        "        user_ratings = users_ratings_data[i]  # Ratings given by the user\n",
        "        num_movies = len(user_movies)  # Number of movies rated by the user\n",
        "        if num_movies > 0:\n",
        "            user_biases[i] = lambda_ * np.sum(user_ratings - movie_biases[user_movies]) / (lambda_ * num_movies + gamma)\n",
        "\n",
        "\n",
        "def update_movies_biases(movies_users_data, movies_ratings_data, user_biases, lambda_, gamma):\n",
        "    \"\"\"\n",
        "    Updates movie biases based on observed ratings and user biases.\n",
        "\n",
        "    Parameters:\n",
        "    movies_users_data (list): List of users who rated each movie.\n",
        "    movies_ratings_data (list): List of ratings received by each movie.\n",
        "    user_biases (ndarray): Array of user biases.\n",
        "    lambda_ (float): Regularization parameter.\n",
        "    gamma (float): Weight parameter.\n",
        "\n",
        "    Returns:\n",
        "    None: Updates movie_biases in place.\n",
        "    \"\"\"\n",
        "    for i in range(len(movies_users_data)):\n",
        "        movie_users = movies_users_data[i]  # Users who rated the movie\n",
        "        movie_ratings = movies_ratings_data[i]  # Ratings given to the movie\n",
        "        num_users = len(movie_users)  # Number of users who rated the movie\n",
        "        if num_users > 0:\n",
        "            movie_biases[i] = lambda_ * np.sum(movie_ratings - user_biases[movie_users]) / (lambda_ * num_users + gamma)\n",
        "\n",
        "\n",
        "def update_user_latents(users_movies_data, users_ratings_data, user_biases, movie_biases, U, V, lambda_, tau, k):\n",
        "    \"\"\"\n",
        "    Updates user latent factor matrices.\n",
        "\n",
        "    Parameters:\n",
        "    users_movies_data (list): List of movies rated by each user.\n",
        "    users_ratings_data (list): List of ratings given by each user.\n",
        "    user_biases (ndarray): Array of user biases.\n",
        "    movie_biases (ndarray): Array of movie biases.\n",
        "    U (ndarray): User latent matrix.\n",
        "    V (ndarray): Movie latent matrix.\n",
        "    lambda_ (float): Regularization parameter.\n",
        "    tau (float): Weight parameter for the identity matrix.\n",
        "    k (int): Number of latent factors.\n",
        "\n",
        "    Returns:\n",
        "    None: Updates U in place.\n",
        "    \"\"\"\n",
        "    for i in range(len(users_movies_data)):\n",
        "        user_movies = users_movies_data[i]  # Movies rated by user i\n",
        "        user_ratings = users_ratings_data[i]  # Ratings given by user i\n",
        "\n",
        "        # Regularization term\n",
        "        inv_term = lambda_ * np.dot(V[user_movies].T, V[user_movies]) + tau * np.eye(k)\n",
        "\n",
        "        # Term involving ratings and biases\n",
        "        term = lambda_ * np.dot(\n",
        "            V[user_movies].T,\n",
        "            user_ratings - movie_biases[user_movies] - user_biases[i]\n",
        "        )\n",
        "\n",
        "        # Update user latent factors\n",
        "        U[i] = np.dot(np.linalg.inv(inv_term), term)\n",
        "\n",
        "def update_movie_latents(movies_users_data, movies_ratings_data, user_biases, movie_biases, U, V, lambda_, tau, k):\n",
        "    \"\"\"\n",
        "    Updates movie latent factor matrices.\n",
        "\n",
        "    Parameters:\n",
        "    movies_users_data (list): List of users who rated each movie.\n",
        "    movies_ratings_data (list): List of ratings received by each movie.\n",
        "    user_biases (ndarray): Array of user biases.\n",
        "    movie_biases (ndarray): Array of movie biases.\n",
        "    U (ndarray): User latent matrix.\n",
        "    V (ndarray): Movie latent matrix.\n",
        "    lambda_ (float): Regularization parameter.\n",
        "    tau (float): Weight parameter for the identity matrix.\n",
        "    k (int): Number of latent factors.\n",
        "\n",
        "    Returns:\n",
        "    None: Updates V in place.\n",
        "    \"\"\"\n",
        "    for i in range(len(movies_users_data)):\n",
        "        movie_users = movies_users_data[i]  # Users who rated movie i\n",
        "        movie_ratings = movies_ratings_data[i]  # Ratings given to movie i\n",
        "\n",
        "        # Regularization term\n",
        "        inv_term = lambda_ * np.dot(U[movie_users].T, U[movie_users]) + tau * np.eye(k)\n",
        "\n",
        "        # Term involving ratings and biases\n",
        "        term = lambda_ * np.dot(\n",
        "            U[movie_users].T,\n",
        "            movie_ratings - user_biases[movie_users] - movie_biases[i]\n",
        "        )\n",
        "\n",
        "        # Update movie latent factors\n",
        "        V[i] = np.dot(np.linalg.inv(inv_term), term)\n",
        "\n",
        "def calc_loss(users_movies_data, users_ratings_data, user_biases, movie_biases, U, V, lambda_, gamma, tau):\n",
        "    \"\"\"\n",
        "    Calculates the RMSE and total loss for the current state of latent factors and biases.\n",
        "\n",
        "    Parameters:\n",
        "    users_movies_data (list): List of movies rated by each user.\n",
        "    users_ratings_data (list): List of ratings given by each user.\n",
        "    user_biases (ndarray): Array of user biases.\n",
        "    movie_biases (ndarray): Array of movie biases.\n",
        "    U (ndarray): User latent matrix.\n",
        "    V (ndarray): Movie latent matrix.\n",
        "    lambda_ (float): Regularization parameter for error term.\n",
        "    gamma (float): Regularization parameter for biases.\n",
        "    tau (float): Regularization parameter for latent matrices.\n",
        "\n",
        "    Returns:\n",
        "    tuple: RMSE (float) and total loss (float).\n",
        "    \"\"\"\n",
        "    total_error = 0.0\n",
        "    num_ratings = 0\n",
        "\n",
        "    # Calculate total error and number of ratings\n",
        "    for i in range(len(users_movies_data)):\n",
        "        user_ratings = np.array(users_ratings_data[i], dtype=np.float32)\n",
        "        user_movies = np.array(users_movies_data[i], dtype=np.int32)\n",
        "        num_ratings += len(user_movies)\n",
        "\n",
        "        # Predicted ratings\n",
        "        preds = np.dot(V[user_movies], U[i]) + user_biases[i] + movie_biases[user_movies]\n",
        "\n",
        "        # Accumulate squared error\n",
        "        total_error += np.sum((user_ratings - preds) ** 2)\n",
        "\n",
        "    # Compute RMSE\n",
        "    rmse = np.sqrt(total_error / num_ratings)\n",
        "\n",
        "    # Compute total loss with regularization\n",
        "    loss = (\n",
        "        (lambda_ / 2) * total_error\n",
        "        + (tau / 2) * (np.sum(U ** 2) + np.sum(V ** 2))\n",
        "        + (gamma / 2) * (np.sum(user_biases ** 2) + np.sum(movie_biases ** 2))\n",
        "    )\n",
        "\n",
        "    return rmse, loss\n"
      ]
    },
    {
      "cell_type": "code",
      "execution_count": null,
      "id": "0e3fbdb2",
      "metadata": {
        "id": "0e3fbdb2"
      },
      "outputs": [],
      "source": [
        "# users data\n",
        "users_watched_movies_train = train_data[\"users_watched_movies\"]\n",
        "users_given_ratings_train = train_data[\"users_given_ratings\"]\n",
        "\n",
        "users_watched_movies_test = test_data[\"users_watched_movies\"]\n",
        "users_given_ratings_test = test_data[\"users_given_ratings\"]\n",
        "\n",
        "# movies data\n",
        "movies_watched_by_users_train = train_data[\"movies_watched_by_users\"]\n",
        "movies_received_ratings_train = train_data[\"movies_received_ratings\"]\n",
        "\n",
        "movies_watched_by_users_test = test_data[\"movies_watched_by_users\"]\n",
        "movies_received_ratings_test = test_data[\"movies_received_ratings\"]"
      ]
    },
    {
      "cell_type": "code",
      "execution_count": null,
      "id": "ac49c44a",
      "metadata": {
        "id": "ac49c44a"
      },
      "outputs": [],
      "source": [
        "def train_fn(users_watched_movies_train, users_given_ratings_train,\n",
        "             movies_watched_by_users_train,\n",
        "             movies_received_ratings_train,\n",
        "            users_watched_movies_test,\n",
        "             users_given_ratings_test,\n",
        "            user_biases,\n",
        "            movie_biases,\n",
        "            U, V,\n",
        "            lambda_,gamma,tau,k, iterations):\n",
        "    rmse_train_losses, rmse_test_losses, losses = [], [], []\n",
        "    for i in range(iterations):\n",
        "\n",
        "        update_users_biases(users_watched_movies_train, users_given_ratings_train, movie_biases, U_matrix, V_matrix, lambda_, gamma)\n",
        "        update_user_latents(users_watched_movies_train, users_given_ratings_train, user_biases, movie_biases, U_matrix, V_matrix, lambda_, tau, k)\n",
        "\n",
        "        update_movies_biases(movies_watched_by_users_train, movies_received_ratings_train, user_biases, U_matrix, V_matrix, lambda_, gamma)\n",
        "        update_movie_latents(movies_watched_by_users_train, movies_received_ratings_train, user_biases, movie_biases, U_matrix, V_matrix, lambda_, tau, k)\n",
        "        # train losses\n",
        "        rmse_train,loss_train = calc_loss(users_watched_movies_train, users_given_ratings_train, user_biases, movie_biases, U_matrix, V_matrix, lambda_, gamma, tau)\n",
        "        # test losses\n",
        "        rmse_test,_ = calc_loss(users_watched_movies_test, users_given_ratings_test, user_biases, movie_biases,U_matrix, V_matrix, lambda_, gamma, tau)\n",
        "        rmse_train_losses.append(rmse_train);rmse_test_losses.append(rmse_test);losses.append(loss_train)\n",
        "\n",
        "\n",
        "\n",
        "    return rmse_train_losses, rmse_test_losses, losses"
      ]
    },
    {
      "cell_type": "code",
      "execution_count": null,
      "id": "96c17aaf",
      "metadata": {
        "id": "96c17aaf",
        "outputId": "1835332f-151c-4812-8ec7-81f6f6eb510a"
      },
      "outputs": [
        {
          "name": "stderr",
          "output_type": "stream",
          "text": [
            "48it [04:05,  5.12s/it]\n"
          ]
        }
      ],
      "source": [
        "lambda_values = [0.01, 0.05, 0.1, 0.5]\n",
        "tau_values = [0.1, 0.5, 1.0, 1.5]\n",
        "gamma_values = [0.01, 0.1, 0.5]\n",
        "\n",
        "# Generate all combinations of hyperparameters\n",
        "params = list(product(lambda_values, tau_values, gamma_values))\n",
        "\n",
        "# Dictionary to store RMSE results for test data\n",
        "rmse_test_values = {}\n",
        "\n",
        "# Grid search\n",
        "for _, (lambda_, tau, gamma) in tqdm(enumerate(params)):\n",
        "    # Initialize biases and latent matrices\n",
        "    user_biases, movie_biases = init_biases(NUM_USERS, NUM_MOVIES)\n",
        "    U_matrix, V_matrix = init_latent_matrices(NUM_USERS, NUM_MOVIES, k, seed=101)\n",
        "\n",
        "    # Train the model and retrieve test RMSE\n",
        "    _, rmse_test, _ = train_fn(\n",
        "        users_watched_movies_train, users_given_ratings_train,\n",
        "        movies_watched_by_users_train, movies_received_ratings_train,\n",
        "        users_watched_movies_test, users_given_ratings_test,\n",
        "        user_biases, movie_biases, U_matrix, V_matrix,\n",
        "        lambda_, gamma, tau, k, iterations=10\n",
        "    )\n",
        "\n",
        "    # Store the test RMSE for the current combination of hyperparameters\n",
        "    rmse_test_values[(lambda_, tau, gamma)] = rmse_test\n",
        "\n",
        "\n"
      ]
    },
    {
      "cell_type": "code",
      "execution_count": null,
      "id": "256b7f0e",
      "metadata": {
        "id": "256b7f0e",
        "outputId": "1ac3dfe9-198c-4a26-af85-814ec8452ba5"
      },
      "outputs": [
        {
          "ename": "TypeError",
          "evalue": "cannot unpack non-iterable int object",
          "output_type": "error",
          "traceback": [
            "\u001b[0;31m---------------------------------------------------------------------------\u001b[0m",
            "\u001b[0;31mTypeError\u001b[0m                                 Traceback (most recent call last)",
            "Cell \u001b[0;32mIn[62], line 2\u001b[0m\n\u001b[1;32m      1\u001b[0m iterations \u001b[38;5;241m=\u001b[39m np\u001b[38;5;241m.\u001b[39marange(\u001b[38;5;241m1\u001b[39m, \u001b[38;5;241m11\u001b[39m)\n\u001b[0;32m----> 2\u001b[0m \u001b[38;5;28;01mfor\u001b[39;00m (lambda_, tau, gamma), rmse_test \u001b[38;5;129;01min\u001b[39;00m rmse_test_values\u001b[38;5;241m.\u001b[39mitems():\n\u001b[1;32m      3\u001b[0m     \u001b[38;5;28;01mif\u001b[39;00m \u001b[38;5;28mmin\u001b[39m(rmse_test) \u001b[38;5;241m>\u001b[39m \u001b[38;5;241m0.55\u001b[39m: \u001b[38;5;28;01mcontinue\u001b[39;00m\n\u001b[1;32m      5\u001b[0m     plt\u001b[38;5;241m.\u001b[39mplot(iterations, rmse_test,\u001b[38;5;124m\"\u001b[39m\u001b[38;5;124m--\u001b[39m\u001b[38;5;124m\"\u001b[39m, label\u001b[38;5;241m=\u001b[39m\u001b[38;5;124mrf\u001b[39m\u001b[38;5;124m\"\u001b[39m\u001b[38;5;124m$\u001b[39m\u001b[38;5;124m\\\u001b[39m\u001b[38;5;124mlambda$:\u001b[39m\u001b[38;5;132;01m{\u001b[39;00mlambda_\u001b[38;5;132;01m}\u001b[39;00m\u001b[38;5;124m, $\u001b[39m\u001b[38;5;124m\\\u001b[39m\u001b[38;5;124mtau$:\u001b[39m\u001b[38;5;132;01m{\u001b[39;00mtau\u001b[38;5;132;01m}\u001b[39;00m\u001b[38;5;124m, $\u001b[39m\u001b[38;5;124m\\\u001b[39m\u001b[38;5;124mgamma$:\u001b[39m\u001b[38;5;132;01m{\u001b[39;00mgamma\u001b[38;5;132;01m}\u001b[39;00m\u001b[38;5;124m\"\u001b[39m)\n",
            "\u001b[0;31mTypeError\u001b[0m: cannot unpack non-iterable int object"
          ]
        }
      ],
      "source": [
        "# Define iterations for the x-axis\n",
        "iterations = np.arange(1, 11)\n",
        "\n",
        "# Plot the test RMSE values for each combination of hyperparameters\n",
        "for (lambda_, tau, gamma), rmse_test in rmse_test_values.items():\n",
        "    # Skip hyperparameter combinations with a minimum RMSE > 0.58 to be more readable\n",
        "    if min(rmse_test) > 0.58:\n",
        "        continue\n",
        "\n",
        "    # Plot RMSE across iterations for the current combination\n",
        "    plt.plot(\n",
        "        iterations,\n",
        "        rmse_test,\n",
        "        \"--\",\n",
        "        label=rf\"$\\lambda$: {lambda_}, $\\tau$: {tau}, $\\gamma$: {gamma}\"\n",
        "    )\n",
        "\n",
        "# Add labels, title, and legend\n",
        "plt.xlabel(\"Iterations\")\n",
        "plt.ylabel(\"Test RMSE\")\n",
        "plt.title(\"Hyperparameters Grid Search\")\n",
        "plt.legend()\n",
        "plt.show()"
      ]
    },
    {
      "cell_type": "code",
      "execution_count": null,
      "id": "60b74a0d",
      "metadata": {
        "id": "60b74a0d",
        "outputId": "1a272476-c3fe-4377-af82-8af704c7cbd3"
      },
      "outputs": [
        {
          "name": "stderr",
          "output_type": "stream",
          "text": [
            "9it [17:04, 113.81s/it]\n"
          ]
        }
      ],
      "source": [
        "# Define the best hyperparameters and range of k-values\n",
        "best_lambda = 0.1\n",
        "best_gamma = 0.01\n",
        "best_tau = 0.1\n",
        "k_values = [2, 4, 8, 16, 32, 64, 128, 256, 512]\n",
        "\n",
        "# Dictionary to store RMSE results for each k-value\n",
        "rmse_test_values = {}\n",
        "\n",
        "# Iterate over k-values\n",
        "for _, k_value in tqdm(enumerate(k_values), total=len(k_values)):\n",
        "    # Initialize biases and latent matrices\n",
        "    user_biases, movie_biases = init_biases(NUM_USERS, NUM_MOVIES)\n",
        "    U_matrix, V_matrix = init_latent_matrices(NUM_USERS, NUM_MOVIES, k_value, seed=101)\n",
        "\n",
        "    # Train the model and retrieve RMSE for test data\n",
        "    _, rmse_test, _ = train_fn(\n",
        "        users_watched_movies_train, users_given_ratings_train,\n",
        "        movies_watched_by_users_train, movies_received_ratings_train,\n",
        "        users_watched_movies_test, users_given_ratings_test,\n",
        "        user_biases, movie_biases, U_matrix, V_matrix,\n",
        "        best_lambda, best_gamma, best_tau, k_value, iterations=10\n",
        "    )\n",
        "\n",
        "    # Store the test RMSE for the current k-value\n",
        "    rmse_test_values[k_value] = rmse_test\n"
      ]
    },
    {
      "cell_type": "code",
      "execution_count": null,
      "id": "a4b4898c",
      "metadata": {
        "id": "a4b4898c",
        "outputId": "b464519a-4264-4e40-f85d-122facd68d2d"
      },
      "outputs": [
        {
          "data": {
            "image/png": "[encoded data removed]",
            "text/plain": [
              "<Figure size 640x480 with 1 Axes>"
            ]
          },
          "metadata": {},
          "output_type": "display_data"
        }
      ],
      "source": [
        "# x-axis\n",
        "iterations = np.arange(1, 11)\n",
        "\n",
        "for k_value, rmse_test in rmse_test_values.items():\n",
        "\n",
        "    plt.plot(\n",
        "        iterations,\n",
        "        rmse_test[:10],\n",
        "        label=f\"$k$={k_value}\"\n",
        "    )\n",
        "\n",
        "plt.xlabel(\"Iterations\")\n",
        "plt.ylabel(\"Test RMSE\")\n",
        "plt.title(\"Hyperparameters Grid Search Across k Values\")\n",
        "plt.legend()\n",
        "plt.show()"
      ]
    },
    {
      "cell_type": "code",
      "execution_count": null,
      "id": "4bf1effc",
      "metadata": {
        "id": "4bf1effc",
        "outputId": "a6a7dcc7-9fdf-4e33-b133-655a7f87df83"
      },
      "outputs": [
        {
          "data": {
            "image/png": "[encoded data removed]",
            "text/plain": [
              "<Figure size 640x480 with 1 Axes>"
            ]
          },
          "metadata": {},
          "output_type": "display_data"
        }
      ],
      "source": [
        "# Extract k-values and the last RMSE values\n",
        "k_values = list(rmse_test_values.keys())\n",
        "last_rmse_values = [rmse_test[-1] for rmse_test in rmse_test_values.values()]\n",
        "\n",
        "plt.plot(\n",
        "    k_values,\n",
        "    last_rmse_values,\n",
        "    \"--*\",\n",
        "    color=\"orangered\",\n",
        "    label=\"Last RMSE Value\"\n",
        ")\n",
        "\n",
        "plt.xlabel(\"k (Number of Latent Factors)\")\n",
        "plt.ylabel(\"Test RMSE\")\n",
        "plt.savefig(\"100k_latent_length_new.svg\")\n",
        "plt.show()"
      ]
    }
  ],
  "metadata": {
    "kernelspec": {
      "display_name": "AIMS Python 3.11",
      "language": "python",
      "name": "aims"
    },
    "language_info": {
      "codemirror_mode": {
        "name": "ipython",
        "version": 3
      },
      "file_extension": ".py",
      "mimetype": "text/x-python",
      "name": "python",
      "nbconvert_exporter": "python",
      "pygments_lexer": "ipython3",
      "version": "3.11.2"
    },
    "colab": {
      "provenance": []
    }
  },
  "nbformat": 4,
  "nbformat_minor": 5
}