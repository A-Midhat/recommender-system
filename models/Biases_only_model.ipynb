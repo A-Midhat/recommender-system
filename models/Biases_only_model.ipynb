{
  "nbformat": 4,
  "nbformat_minor": 0,
  "metadata": {
    "colab": {
      "provenance": []
    },
    "kernelspec": {
      "name": "python3",
      "display_name": "Python 3"
    },
    "language_info": {
      "name": "python"
    }
  },
  "cells": [
    {
      "cell_type": "markdown",
      "source": [
        "#Using Movie lens dataset for 100k ratings only and test it on the biases only model"
      ],
      "metadata": {
        "id": "Cmz9tPAr9ESC"
      }
    },
    {
      "cell_type": "markdown",
      "source": [
        "##Exploring the dataset and creating data structure for users and movies"
      ],
      "metadata": {
        "id": "1Y_PvYyqAcH9"
      }
    },
    {
      "cell_type": "markdown",
      "source": [
        " Downloading the MovieLens dataset (100K ratings version)\n",
        "\n",
        "\n",
        "\n"
      ],
      "metadata": {
        "id": "weJEuB9M9OEN"
      }
    },
    {
      "cell_type": "code",
      "execution_count": 2,
      "metadata": {
        "colab": {
          "base_uri": "https://localhost:8080/"
        },
        "collapsed": true,
        "id": "4LtrdtSS9B4I",
        "outputId": "57697145-4fbd-4de1-b900-783795584b40"
      },
      "outputs": [
        {
          "output_type": "stream",
          "name": "stdout",
          "text": [
            "--2024-12-25 13:16:48--  https://files.grouplens.org/datasets/movielens/ml-latest-small.zip\n",
            "Resolving files.grouplens.org (files.grouplens.org)... 128.101.65.152\n",
            "Connecting to files.grouplens.org (files.grouplens.org)|128.101.65.152|:443... connected.\n",
            "HTTP request sent, awaiting response... 200 OK\n",
            "Length: 978202 (955K) [application/zip]\n",
            "Saving to: ‘ml-latest-small.zip’\n",
            "\n",
            "ml-latest-small.zip 100%[===================>] 955.28K  3.29MB/s    in 0.3s    \n",
            "\n",
            "2024-12-25 13:16:49 (3.29 MB/s) - ‘ml-latest-small.zip’ saved [978202/978202]\n",
            "\n",
            "Archive:  ml-latest-small.zip\n",
            "   creating: ml-latest-small/\n",
            "  inflating: ml-latest-small/links.csv  \n",
            "  inflating: ml-latest-small/tags.csv  \n",
            "  inflating: ml-latest-small/ratings.csv  \n",
            "  inflating: ml-latest-small/README.txt  \n",
            "  inflating: ml-latest-small/movies.csv  \n"
          ]
        }
      ],
      "source": [
        "!wget https://files.grouplens.org/datasets/movielens/ml-latest-small.zip\n",
        "!unzip ml-latest-small.zip"
      ]
    },
    {
      "cell_type": "markdown",
      "source": [
        "Importing required libraries for preprocessing the data"
      ],
      "metadata": {
        "id": "wb5nDVEq9k_B"
      }
    },
    {
      "cell_type": "code",
      "source": [
        "import pandas as pd\n",
        "import numpy as np\n",
        "import matplotlib.pyplot as plt\n",
        "import itertools\n",
        "from collections import Counter"
      ],
      "metadata": {
        "id": "XeSulM789VnZ"
      },
      "execution_count": 5,
      "outputs": []
    },
    {
      "cell_type": "markdown",
      "source": [
        "Exploring the dataset"
      ],
      "metadata": {
        "id": "R8VMRsrM-Wrx"
      }
    },
    {
      "cell_type": "code",
      "source": [
        "all_ratings = pd.read_csv('/content/ml-latest-small/ratings.csv')\n",
        "all_ratings.head()"
      ],
      "metadata": {
        "colab": {
          "base_uri": "https://localhost:8080/",
          "height": 206
        },
        "id": "Fcsx1hG19tMf",
        "outputId": "c64d5019-28bc-4aa7-8386-aa6638b2e5b6"
      },
      "execution_count": 6,
      "outputs": [
        {
          "output_type": "execute_result",
          "data": {
            "text/plain": [
              "   userId  movieId  rating  timestamp\n",
              "0       1        1     4.0  964982703\n",
              "1       1        3     4.0  964981247\n",
              "2       1        6     4.0  964982224\n",
              "3       1       47     5.0  964983815\n",
              "4       1       50     5.0  964982931"
            ],
            "text/html": [
              "\n",
              "  <div id=\"df-90f3d849-baab-4a78-b366-e3cb0812760f\" class=\"colab-df-container\">\n",
              "    <div>\n",
              "<style scoped>\n",
              "    .dataframe tbody tr th:only-of-type {\n",
              "        vertical-align: middle;\n",
              "    }\n",
              "\n",
              "    .dataframe tbody tr th {\n",
              "        vertical-align: top;\n",
              "    }\n",
              "\n",
              "    .dataframe thead th {\n",
              "        text-align: right;\n",
              "    }\n",
              "</style>\n",
              "<table border=\"1\" class=\"dataframe\">\n",
              "  <thead>\n",
              "    <tr style=\"text-align: right;\">\n",
              "      <th></th>\n",
              "      <th>userId</th>\n",
              "      <th>movieId</th>\n",
              "      <th>rating</th>\n",
              "      <th>timestamp</th>\n",
              "    </tr>\n",
              "  </thead>\n",
              "  <tbody>\n",
              "    <tr>\n",
              "      <th>0</th>\n",
              "      <td>1</td>\n",
              "      <td>1</td>\n",
              "      <td>4.0</td>\n",
              "      <td>964982703</td>\n",
              "    </tr>\n",
              "    <tr>\n",
              "      <th>1</th>\n",
              "      <td>1</td>\n",
              "      <td>3</td>\n",
              "      <td>4.0</td>\n",
              "      <td>964981247</td>\n",
              "    </tr>\n",
              "    <tr>\n",
              "      <th>2</th>\n",
              "      <td>1</td>\n",
              "      <td>6</td>\n",
              "      <td>4.0</td>\n",
              "      <td>964982224</td>\n",
              "    </tr>\n",
              "    <tr>\n",
              "      <th>3</th>\n",
              "      <td>1</td>\n",
              "      <td>47</td>\n",
              "      <td>5.0</td>\n",
              "      <td>964983815</td>\n",
              "    </tr>\n",
              "    <tr>\n",
              "      <th>4</th>\n",
              "      <td>1</td>\n",
              "      <td>50</td>\n",
              "      <td>5.0</td>\n",
              "      <td>964982931</td>\n",
              "    </tr>\n",
              "  </tbody>\n",
              "</table>\n",
              "</div>\n",
              "    <div class=\"colab-df-buttons\">\n",
              "\n",
              "  <div class=\"colab-df-container\">\n",
              "    <button class=\"colab-df-convert\" onclick=\"convertToInteractive('df-90f3d849-baab-4a78-b366-e3cb0812760f')\"\n",
              "            title=\"Convert this dataframe to an interactive table.\"\n",
              "            style=\"display:none;\">\n",
              "\n",
              "  <svg xmlns=\"http://www.w3.org/2000/svg\" height=\"24px\" viewBox=\"0 -960 960 960\">\n",
              "    <path d=\"M120-120v-720h720v720H120Zm60-500h600v-160H180v160Zm220 220h160v-160H400v160Zm0 220h160v-160H400v160ZM180-400h160v-160H180v160Zm440 0h160v-160H620v160ZM180-180h160v-160H180v160Zm440 0h160v-160H620v160Z\"/>\n",
              "  </svg>\n",
              "    </button>\n",
              "\n",
              "  <style>\n",
              "    .colab-df-container {\n",
              "      display:flex;\n",
              "      gap: 12px;\n",
              "    }\n",
              "\n",
              "    .colab-df-convert {\n",
              "      background-color: #E8F0FE;\n",
              "      border: none;\n",
              "      border-radius: 50%;\n",
              "      cursor: pointer;\n",
              "      display: none;\n",
              "      fill: #1967D2;\n",
              "      height: 32px;\n",
              "      padding: 0 0 0 0;\n",
              "      width: 32px;\n",
              "    }\n",
              "\n",
              "    .colab-df-convert:hover {\n",
              "      background-color: #E2EBFA;\n",
              "      box-shadow: 0px 1px 2px rgba(60, 64, 67, 0.3), 0px 1px 3px 1px rgba(60, 64, 67, 0.15);\n",
              "      fill: #174EA6;\n",
              "    }\n",
              "\n",
              "    .colab-df-buttons div {\n",
              "      margin-bottom: 4px;\n",
              "    }\n",
              "\n",
              "    [theme=dark] .colab-df-convert {\n",
              "      background-color: #3B4455;\n",
              "      fill: #D2E3FC;\n",
              "    }\n",
              "\n",
              "    [theme=dark] .colab-df-convert:hover {\n",
              "      background-color: #434B5C;\n",
              "      box-shadow: 0px 1px 3px 1px rgba(0, 0, 0, 0.15);\n",
              "      filter: drop-shadow(0px 1px 2px rgba(0, 0, 0, 0.3));\n",
              "      fill: #FFFFFF;\n",
              "    }\n",
              "  </style>\n",
              "\n",
              "    <script>\n",
              "      const buttonEl =\n",
              "        document.querySelector('#df-90f3d849-baab-4a78-b366-e3cb0812760f button.colab-df-convert');\n",
              "      buttonEl.style.display =\n",
              "        google.colab.kernel.accessAllowed ? 'block' : 'none';\n",
              "\n",
              "      async function convertToInteractive(key) {\n",
              "        const element = document.querySelector('#df-90f3d849-baab-4a78-b366-e3cb0812760f');\n",
              "        const dataTable =\n",
              "          await google.colab.kernel.invokeFunction('convertToInteractive',\n",
              "                                                    [key], {});\n",
              "        if (!dataTable) return;\n",
              "\n",
              "        const docLinkHtml = 'Like what you see? Visit the ' +\n",
              "          '<a target=\"_blank\" href=https://colab.research.google.com/notebooks/data_table.ipynb>data table notebook</a>'\n",
              "          + ' to learn more about interactive tables.';\n",
              "        element.innerHTML = '';\n",
              "        dataTable['output_type'] = 'display_data';\n",
              "        await google.colab.output.renderOutput(dataTable, element);\n",
              "        const docLink = document.createElement('div');\n",
              "        docLink.innerHTML = docLinkHtml;\n",
              "        element.appendChild(docLink);\n",
              "      }\n",
              "    </script>\n",
              "  </div>\n",
              "\n",
              "\n",
              "<div id=\"df-1bca3446-a304-420e-a69c-43cbd6f138dc\">\n",
              "  <button class=\"colab-df-quickchart\" onclick=\"quickchart('df-1bca3446-a304-420e-a69c-43cbd6f138dc')\"\n",
              "            title=\"Suggest charts\"\n",
              "            style=\"display:none;\">\n",
              "\n",
              "<svg xmlns=\"http://www.w3.org/2000/svg\" height=\"24px\"viewBox=\"0 0 24 24\"\n",
              "     width=\"24px\">\n",
              "    <g>\n",
              "        <path d=\"M19 3H5c-1.1 0-2 .9-2 2v14c0 1.1.9 2 2 2h14c1.1 0 2-.9 2-2V5c0-1.1-.9-2-2-2zM9 17H7v-7h2v7zm4 0h-2V7h2v10zm4 0h-2v-4h2v4z\"/>\n",
              "    </g>\n",
              "</svg>\n",
              "  </button>\n",
              "\n",
              "<style>\n",
              "  .colab-df-quickchart {\n",
              "      --bg-color: #E8F0FE;\n",
              "      --fill-color: #1967D2;\n",
              "      --hover-bg-color: #E2EBFA;\n",
              "      --hover-fill-color: #174EA6;\n",
              "      --disabled-fill-color: #AAA;\n",
              "      --disabled-bg-color: #DDD;\n",
              "  }\n",
              "\n",
              "  [theme=dark] .colab-df-quickchart {\n",
              "      --bg-color: #3B4455;\n",
              "      --fill-color: #D2E3FC;\n",
              "      --hover-bg-color: #434B5C;\n",
              "      --hover-fill-color: #FFFFFF;\n",
              "      --disabled-bg-color: #3B4455;\n",
              "      --disabled-fill-color: #666;\n",
              "  }\n",
              "\n",
              "  .colab-df-quickchart {\n",
              "    background-color: var(--bg-color);\n",
              "    border: none;\n",
              "    border-radius: 50%;\n",
              "    cursor: pointer;\n",
              "    display: none;\n",
              "    fill: var(--fill-color);\n",
              "    height: 32px;\n",
              "    padding: 0;\n",
              "    width: 32px;\n",
              "  }\n",
              "\n",
              "  .colab-df-quickchart:hover {\n",
              "    background-color: var(--hover-bg-color);\n",
              "    box-shadow: 0 1px 2px rgba(60, 64, 67, 0.3), 0 1px 3px 1px rgba(60, 64, 67, 0.15);\n",
              "    fill: var(--button-hover-fill-color);\n",
              "  }\n",
              "\n",
              "  .colab-df-quickchart-complete:disabled,\n",
              "  .colab-df-quickchart-complete:disabled:hover {\n",
              "    background-color: var(--disabled-bg-color);\n",
              "    fill: var(--disabled-fill-color);\n",
              "    box-shadow: none;\n",
              "  }\n",
              "\n",
              "  .colab-df-spinner {\n",
              "    border: 2px solid var(--fill-color);\n",
              "    border-color: transparent;\n",
              "    border-bottom-color: var(--fill-color);\n",
              "    animation:\n",
              "      spin 1s steps(1) infinite;\n",
              "  }\n",
              "\n",
              "  @keyframes spin {\n",
              "    0% {\n",
              "      border-color: transparent;\n",
              "      border-bottom-color: var(--fill-color);\n",
              "      border-left-color: var(--fill-color);\n",
              "    }\n",
              "    20% {\n",
              "      border-color: transparent;\n",
              "      border-left-color: var(--fill-color);\n",
              "      border-top-color: var(--fill-color);\n",
              "    }\n",
              "    30% {\n",
              "      border-color: transparent;\n",
              "      border-left-color: var(--fill-color);\n",
              "      border-top-color: var(--fill-color);\n",
              "      border-right-color: var(--fill-color);\n",
              "    }\n",
              "    40% {\n",
              "      border-color: transparent;\n",
              "      border-right-color: var(--fill-color);\n",
              "      border-top-color: var(--fill-color);\n",
              "    }\n",
              "    60% {\n",
              "      border-color: transparent;\n",
              "      border-right-color: var(--fill-color);\n",
              "    }\n",
              "    80% {\n",
              "      border-color: transparent;\n",
              "      border-right-color: var(--fill-color);\n",
              "      border-bottom-color: var(--fill-color);\n",
              "    }\n",
              "    90% {\n",
              "      border-color: transparent;\n",
              "      border-bottom-color: var(--fill-color);\n",
              "    }\n",
              "  }\n",
              "</style>\n",
              "\n",
              "  <script>\n",
              "    async function quickchart(key) {\n",
              "      const quickchartButtonEl =\n",
              "        document.querySelector('#' + key + ' button');\n",
              "      quickchartButtonEl.disabled = true;  // To prevent multiple clicks.\n",
              "      quickchartButtonEl.classList.add('colab-df-spinner');\n",
              "      try {\n",
              "        const charts = await google.colab.kernel.invokeFunction(\n",
              "            'suggestCharts', [key], {});\n",
              "      } catch (error) {\n",
              "        console.error('Error during call to suggestCharts:', error);\n",
              "      }\n",
              "      quickchartButtonEl.classList.remove('colab-df-spinner');\n",
              "      quickchartButtonEl.classList.add('colab-df-quickchart-complete');\n",
              "    }\n",
              "    (() => {\n",
              "      let quickchartButtonEl =\n",
              "        document.querySelector('#df-1bca3446-a304-420e-a69c-43cbd6f138dc button');\n",
              "      quickchartButtonEl.style.display =\n",
              "        google.colab.kernel.accessAllowed ? 'block' : 'none';\n",
              "    })();\n",
              "  </script>\n",
              "</div>\n",
              "\n",
              "    </div>\n",
              "  </div>\n"
            ],
            "application/vnd.google.colaboratory.intrinsic+json": {
              "type": "dataframe",
              "variable_name": "all_ratings"
            }
          },
          "metadata": {},
          "execution_count": 6
        }
      ]
    },
    {
      "cell_type": "markdown",
      "source": [
        "Calculate and display basic statistics about the dataset"
      ],
      "metadata": {
        "id": "_k6doE44AL6g"
      }
    },
    {
      "cell_type": "code",
      "source": [
        "num_users = len(all_ratings[\"userId\"].unique())\n",
        "num_movies = len(all_ratings[\"movieId\"].unique())\n",
        "num_ratings = len(all_ratings)\n",
        "print(\"Number of users: \", num_users)\n",
        "print(\"Number of movies: \", num_movies)\n",
        "print(\"Number of ratings: \",num_ratings)"
      ],
      "metadata": {
        "colab": {
          "base_uri": "https://localhost:8080/"
        },
        "id": "mgJSWgOV97uY",
        "outputId": "07829398-98b2-4c10-cee1-d67d34facc14"
      },
      "execution_count": 9,
      "outputs": [
        {
          "output_type": "stream",
          "name": "stdout",
          "text": [
            "Number of users:  610\n",
            "Number of movies:  9724\n",
            "Number of ratings:  100836\n"
          ]
        }
      ]
    },
    {
      "cell_type": "markdown",
      "source": [
        "unique mappings for user IDs and movie IDs"
      ],
      "metadata": {
        "id": "sji2N6eABNyD"
      }
    },
    {
      "cell_type": "code",
      "source": [
        "# Ids ==> indices\n",
        "USER_TO_IDX = {userId: idx for idx, userId in enumerate(all_ratings[\"userId\"].unique())}\n",
        "MOVIE_TO_IDX = {movieId: idx for idx, movieId in enumerate(all_ratings[\"movieId\"].unique())}\n",
        "\n",
        "# indices ==> Ids\n",
        "idx_to_user = list(USER_TO_IDX.keys())\n",
        "idx_to_movie = list(MOVIE_TO_IDX.keys())\n",
        "\n",
        "print(\"user_to_id mapping:\", dict(list(USER_TO_IDX.items())[:5]))\n",
        "print(\"movie_to_id mapping:\", dict(list(MOVIE_TO_IDX.items())[:5]))"
      ],
      "metadata": {
        "colab": {
          "base_uri": "https://localhost:8080/"
        },
        "id": "rUlkIS7__F2T",
        "outputId": "3350886d-1fb6-4e71-cbbc-3b98a1b0f18b"
      },
      "execution_count": 42,
      "outputs": [
        {
          "output_type": "stream",
          "name": "stdout",
          "text": [
            "user_to_id mapping: {1: 0, 2: 1, 3: 2, 4: 3, 5: 4}\n",
            "movie_to_id mapping: {1: 0, 3: 1, 6: 2, 47: 3, 50: 4}\n"
          ]
        }
      ]
    },
    {
      "cell_type": "markdown",
      "source": [
        "* Create data structures for users and movies containing their respective movie/user IDs and ratings.\n",
        "* users_data = [[(movieId, rating)...], [(movieId, rating) ...] ...]\n",
        "* Same for movies_data except it contains userId"
      ],
      "metadata": {
        "id": "ylksKxxHFRiB"
      }
    },
    {
      "cell_type": "code",
      "source": [
        "# Total numbers of users/movies\n",
        "U = len(idx_to_user)\n",
        "M = len(idx_to_movie)\n",
        "\n",
        "users_data = [[] for _ in range(U)]\n",
        "movies_data = [[] for _ in range(M)]\n",
        "\n",
        "# iterate each row in the all_ratings DataFrame\n",
        "for _, row in all_ratings.iterrows():\n",
        "    user_id = int(row[\"userId\"])\n",
        "    movie_id = int(row[\"movieId\"])\n",
        "    rating = row[\"rating\"]\n",
        "\n",
        "    user_index = USER_TO_IDX[user_id]\n",
        "    movie_index = MOVIE_TO_IDX[movie_id]\n",
        "\n",
        "    # Append (movie_id, rating) to the user's data\n",
        "    users_data[user_index].append((movie_id, rating))\n",
        "\n",
        "    # Append (user_id, rating) to the movie's data\n",
        "    movies_data[movie_index].append((user_id, rating))\n",
        "\n",
        "print(f\"Total users: {len(users_data)}, Total movies: {len(movies_data)}\")\n",
        "print(\"Sample users_data:\", users_data[:2])  # first 2 users\n",
        "print(\"Sample movies_data:\", movies_data[:2]) # first 2 movies"
      ],
      "metadata": {
        "colab": {
          "base_uri": "https://localhost:8080/"
        },
        "id": "jxlnVmOPCRTS",
        "outputId": "ed0a3c8b-2031-4319-fd6c-ce2c033dba98"
      },
      "execution_count": 43,
      "outputs": [
        {
          "output_type": "stream",
          "name": "stdout",
          "text": [
            "Total users: 610, Total movies: 9724\n",
            "Sample users_data: [[(1, 4.0), (3, 4.0), (6, 4.0), (47, 5.0), (50, 5.0), (70, 3.0), (101, 5.0), (110, 4.0), (151, 5.0), (157, 5.0), (163, 5.0), (216, 5.0), (223, 3.0), (231, 5.0), (235, 4.0), (260, 5.0), (296, 3.0), (316, 3.0), (333, 5.0), (349, 4.0), (356, 4.0), (362, 5.0), (367, 4.0), (423, 3.0), (441, 4.0), (457, 5.0), (480, 4.0), (500, 3.0), (527, 5.0), (543, 4.0), (552, 4.0), (553, 5.0), (590, 4.0), (592, 4.0), (593, 4.0), (596, 5.0), (608, 5.0), (648, 3.0), (661, 5.0), (673, 3.0), (733, 4.0), (736, 3.0), (780, 3.0), (804, 4.0), (919, 5.0), (923, 5.0), (940, 5.0), (943, 4.0), (954, 5.0), (1009, 3.0), (1023, 5.0), (1024, 5.0), (1025, 5.0), (1029, 5.0), (1030, 3.0), (1031, 5.0), (1032, 5.0), (1042, 4.0), (1049, 5.0), (1060, 4.0), (1073, 5.0), (1080, 5.0), (1089, 5.0), (1090, 4.0), (1092, 5.0), (1097, 5.0), (1127, 4.0), (1136, 5.0), (1196, 5.0), (1197, 5.0), (1198, 5.0), (1206, 5.0), (1208, 4.0), (1210, 5.0), (1213, 5.0), (1214, 4.0), (1219, 2.0), (1220, 5.0), (1222, 5.0), (1224, 5.0), (1226, 5.0), (1240, 5.0), (1256, 5.0), (1258, 3.0), (1265, 4.0), (1270, 5.0), (1275, 5.0), (1278, 5.0), (1282, 5.0), (1291, 5.0), (1298, 5.0), (1348, 4.0), (1377, 3.0), (1396, 3.0), (1408, 3.0), (1445, 3.0), (1473, 4.0), (1500, 4.0), (1517, 5.0), (1552, 4.0), (1573, 5.0), (1580, 3.0), (1587, 5.0), (1617, 5.0), (1620, 4.0), (1625, 5.0), (1644, 3.0), (1676, 3.0), (1732, 5.0), (1777, 4.0), (1793, 4.0), (1804, 5.0), (1805, 4.0), (1920, 4.0), (1927, 5.0), (1954, 5.0), (1967, 4.0), (2000, 4.0), (2005, 5.0), (2012, 4.0), (2018, 5.0), (2028, 4.0), (2033, 5.0), (2046, 4.0), (2048, 5.0), (2054, 4.0), (2058, 5.0), (2078, 5.0), (2090, 5.0), (2093, 3.0), (2094, 5.0), (2096, 4.0), (2099, 4.0), (2105, 4.0), (2115, 5.0), (2116, 5.0), (2137, 5.0), (2139, 5.0), (2141, 5.0), (2143, 4.0), (2161, 5.0), (2174, 4.0), (2193, 4.0), (2253, 2.0), (2268, 4.0), (2273, 4.0), (2291, 5.0), (2329, 5.0), (2338, 2.0), (2353, 5.0), (2366, 4.0), (2387, 5.0), (2389, 2.0), (2395, 5.0), (2406, 4.0), (2414, 3.0), (2427, 5.0), (2450, 4.0), (2459, 5.0), (2470, 5.0), (2478, 4.0), (2492, 4.0), (2502, 5.0), (2528, 3.0), (2529, 5.0), (2542, 5.0), (2571, 5.0), (2580, 5.0), (2596, 5.0), (2616, 4.0), (2617, 2.0), (2628, 4.0), (2640, 4.0), (2641, 5.0), (2644, 4.0), (2648, 4.0), (2654, 5.0), (2657, 3.0), (2692, 5.0), (2700, 5.0), (2716, 5.0), (2761, 5.0), (2797, 4.0), (2826, 4.0), (2858, 5.0), (2872, 5.0), (2899, 5.0), (2916, 4.0), (2944, 5.0), (2947, 5.0), (2948, 5.0), (2949, 5.0), (2959, 5.0), (2985, 4.0), (2987, 5.0), (2991, 5.0), (2993, 5.0), (2997, 4.0), (3033, 5.0), (3034, 5.0), (3052, 5.0), (3053, 5.0), (3062, 4.0), (3147, 5.0), (3168, 4.0), (3176, 1.0), (3243, 3.0), (3247, 3.0), (3253, 5.0), (3273, 5.0), (3386, 5.0), (3439, 4.0), (3440, 4.0), (3441, 5.0), (3448, 5.0), (3450, 5.0), (3479, 4.0), (3489, 4.0), (3527, 4.0), (3578, 5.0), (3617, 4.0), (3639, 4.0), (3671, 5.0), (3702, 5.0), (3703, 5.0), (3729, 5.0), (3740, 4.0), (3744, 4.0), (3793, 5.0), (3809, 4.0), (4006, 4.0), (5060, 5.0)], [(318, 3.0), (333, 4.0), (1704, 4.5), (3578, 4.0), (6874, 4.0), (8798, 3.5), (46970, 4.0), (48516, 4.0), (58559, 4.5), (60756, 5.0), (68157, 4.5), (71535, 3.0), (74458, 4.0), (77455, 3.0), (79132, 4.0), (80489, 4.5), (80906, 5.0), (86345, 4.0), (89774, 5.0), (91529, 3.5), (91658, 2.5), (99114, 3.5), (106782, 5.0), (109487, 3.0), (112552, 4.0), (114060, 2.0), (115713, 3.5), (122882, 5.0), (131724, 5.0)]]\n",
            "Sample movies_data: [[(1, 4.0), (5, 4.0), (7, 4.5), (15, 2.5), (17, 4.5), (18, 3.5), (19, 4.0), (21, 3.5), (27, 3.0), (31, 5.0), (32, 3.0), (33, 3.0), (40, 5.0), (43, 5.0), (44, 3.0), (45, 4.0), (46, 5.0), (50, 3.0), (54, 3.0), (57, 5.0), (63, 5.0), (64, 4.0), (66, 4.0), (68, 2.5), (71, 5.0), (73, 4.5), (76, 0.5), (78, 4.0), (82, 2.5), (86, 4.0), (89, 3.0), (90, 3.0), (91, 4.0), (93, 3.0), (96, 5.0), (98, 4.5), (103, 4.0), (107, 4.0), (112, 3.0), (119, 3.5), (121, 4.0), (124, 4.0), (130, 3.0), (132, 2.0), (134, 3.0), (135, 4.0), (137, 4.0), (140, 3.0), (141, 4.0), (144, 3.5), (145, 5.0), (151, 5.0), (153, 2.0), (155, 3.0), (156, 4.0), (159, 4.5), (160, 4.0), (161, 4.0), (166, 5.0), (167, 3.5), (169, 4.5), (171, 5.0), (177, 5.0), (178, 4.0), (179, 4.0), (182, 4.0), (185, 4.0), (186, 4.0), (191, 4.0), (193, 2.0), (200, 3.5), (201, 5.0), (202, 4.0), (206, 5.0), (213, 3.5), (214, 3.0), (216, 3.0), (217, 4.0), (219, 3.5), (220, 5.0), (223, 3.5), (226, 3.5), (229, 5.0), (232, 3.5), (233, 3.0), (234, 5.0), (239, 4.0), (240, 5.0), (247, 5.0), (249, 4.0), (252, 4.5), (254, 4.5), (263, 4.0), (264, 4.0), (266, 2.0), (269, 5.0), (270, 5.0), (273, 5.0), (274, 4.0), (275, 5.0), (276, 4.0), (277, 4.0), (279, 3.0), (280, 4.5), (282, 4.5), (283, 3.0), (288, 4.5), (290, 4.0), (291, 4.0), (292, 4.0), (293, 3.0), (298, 2.0), (304, 5.0), (307, 4.0), (314, 3.0), (322, 3.5), (323, 3.5), (328, 5.0), (330, 4.0), (332, 4.0), (334, 3.5), (336, 4.0), (337, 4.0), (339, 4.0), (341, 5.0), (347, 5.0), (350, 4.0), (353, 5.0), (357, 5.0), (359, 4.0), (364, 5.0), (367, 5.0), (372, 3.0), (373, 3.0), (378, 4.5), (380, 5.0), (381, 3.5), (382, 4.5), (385, 4.0), (389, 5.0), (391, 3.0), (396, 5.0), (399, 4.0), (401, 3.5), (411, 5.0), (412, 2.0), (414, 4.0), (420, 4.0), (422, 4.0), (432, 2.5), (434, 4.0), (436, 4.0), (438, 4.5), (443, 4.0), (448, 5.0), (451, 5.0), (453, 5.0), (456, 5.0), (460, 4.5), (462, 1.5), (468, 4.0), (469, 4.0), (470, 4.0), (471, 5.0), (474, 4.0), (476, 4.0), (477, 4.0), (480, 3.0), (483, 4.0), (484, 4.5), (488, 4.5), (490, 3.5), (492, 4.0), (500, 4.0), (504, 4.0), (509, 4.0), (514, 4.0), (517, 4.0), (522, 3.0), (524, 4.0), (525, 4.0), (528, 2.5), (529, 3.0), (533, 5.0), (534, 4.0), (541, 3.0), (544, 3.0), (550, 4.0), (555, 4.0), (559, 5.0), (560, 3.0), (561, 4.0), (562, 4.5), (567, 3.5), (570, 4.0), (572, 4.0), (573, 5.0), (579, 4.0), (580, 3.0), (584, 5.0), (587, 5.0), (590, 4.0), (596, 4.0), (597, 4.0), (599, 3.0), (600, 2.5), (601, 4.0), (603, 4.0), (604, 3.0), (605, 4.0), (606, 2.5), (607, 4.0), (608, 2.5), (609, 3.0), (610, 5.0)], [(1, 4.0), (6, 5.0), (19, 3.0), (32, 3.0), (42, 4.0), (43, 5.0), (44, 3.0), (51, 4.0), (58, 3.0), (64, 3.5), (68, 2.0), (91, 3.0), (100, 3.5), (102, 5.0), (116, 3.5), (117, 3.0), (150, 3.0), (151, 3.0), (169, 5.0), (179, 4.0), (217, 1.0), (226, 3.5), (240, 4.0), (269, 4.0), (270, 3.0), (288, 4.0), (289, 2.5), (294, 1.0), (302, 3.0), (307, 3.5), (308, 0.5), (321, 3.0), (330, 3.0), (337, 4.0), (368, 3.0), (410, 4.0), (414, 4.0), (448, 3.0), (456, 3.0), (470, 3.0), (477, 3.0), (480, 2.5), (492, 4.0), (501, 5.0), (544, 3.0), (552, 1.0), (555, 5.0), (588, 3.0), (590, 3.0), (594, 4.0), (599, 1.5), (608, 2.0)]]\n"
          ]
        }
      ]
    },
    {
      "cell_type": "markdown",
      "source": [
        "* Power plot:\n",
        "    * This plot shows the distribution of how many ratings each movie has received.\n",
        "    * A small number of movies are extremely popular and receive a disproportionate number of ratings, while the majority are less popular.\n",
        "    * We used plt.loglog(), because the logarithmic scale makes it easier to see the trend."
      ],
      "metadata": {
        "id": "sgV1wsiDG5kX"
      }
    },
    {
      "cell_type": "code",
      "source": [
        "ratings_list = [len(movie_data) for movie_id, movie_data in enumerate(movies_data)]\n",
        "\n",
        "ratings_list_dict = Counter(ratings_list)\n",
        "\n",
        "plt.loglog(ratings_list_dict.keys(), ratings_list_dict.values(), \".\")\n",
        "plt.ylabel(\"Frequency\")\n",
        "plt.xlabel(\"Rank\")\n",
        "plt.title(\"Power Law Distribution of Movie Ratings\")\n",
        "plt.show()"
      ],
      "metadata": {
        "colab": {
          "base_uri": "https://localhost:8080/",
          "height": 476
        },
        "id": "soLyandeEiJD",
        "outputId": "d971e13b-eb80-4ee4-9125-69acd43a6a36"
      },
      "execution_count": 45,
      "outputs": [
        {
          "output_type": "display_data",
          "data": {
            "text/plain": [
              "<Figure size 640x480 with 1 Axes>"
            ],
            "image/png": "[encoded data removed]"
          },
          "metadata": {}
        }
      ]
    },
    {
      "cell_type": "markdown",
      "source": [
        "##Building the Biases-only model"
      ],
      "metadata": {
        "id": "vXoJWxueHm8V"
      }
    },
    {
      "cell_type": "markdown",
      "source": [
        "initialize user and movie biases with zeros"
      ],
      "metadata": {
        "id": "yeH9IZ1IH3A6"
      }
    },
    {
      "cell_type": "code",
      "source": [
        "def init_biases(users_data, movies_data):\n",
        "  user_biases = np.zeros(len(users_data))\n",
        "  movie_biases= np.zeros(len(movies_data))\n",
        "  return user_biases, movie_biases"
      ],
      "metadata": {
        "id": "J0I64VvyHjZT"
      },
      "execution_count": 46,
      "outputs": []
    },
    {
      "cell_type": "markdown",
      "source": [
        "*user/movie biases update functions*\n",
        "\n",
        "* Equation for updating ith user bias:\n",
        "$$b_u^{(i)} = \\frac{\\lambda \\sum_{m \\in M_u} (r_{um} - b_m)}{\\lambda |M_u| + \\gamma}$$\n",
        "Where:\n",
        "- $b_u^{(i)}$: Updated bias for user $u$.\n",
        "- $r_{um}$: Rating given by user $u$ to movie $m$.\n",
        "- $b_m$: Current bias for movie $m$.\n",
        "- $M_u$: Set of movies rated by user $u$.\n",
        "- $\\lambda$: Regularization parameter to control overfitting.\n",
        "- $\\gamma$: Regularization constant.\n",
        "\n",
        "* Equation for updating ith movie bias:\n",
        "$$b_m^{(i)} = \\frac{\\lambda \\sum_{u \\in U_m} (r_{um} - b_u)}{\\lambda |U_m| + \\gamma}$$\n",
        "Where:\n",
        "- $b_m^{(i)}$: Updated bias for movie $m$.\n",
        "- $r_{um}$: Rating given by user $u$ to movie $m$.\n",
        "- $b_u$: Current bias for user $u$.\n",
        "- $U_m$: Set of users who rated movie $m$.\n",
        "- $\\lambda$: Regularization parameter to control overfitting.\n",
        "- $\\gamma$: Regularization constant."
      ],
      "metadata": {
        "id": "-_tcLjgMIAbc"
      }
    },
    {
      "cell_type": "code",
      "source": [
        "def update_user_biases(user_id, users_data, user_biases, movie_biases, lambda_, gamma):\n",
        "\n",
        "    m = 0 # Number of movies rated by user\n",
        "    error = 0\n",
        "    for movie_rating in users_data[user_id]:\n",
        "      if movie_rating: # make sure that the tuple isnt empty\n",
        "\n",
        "        m +=1\n",
        "        movie_id, rating = movie_rating\n",
        "        movie_index = MOVIE_TO_IDX[movie_id]\n",
        "        error+=(rating - movie_biases[movie_index])\n",
        "\n",
        "    regularization_term = (lambda_*m)+ gamma\n",
        "    user_biases[user_id] = lambda_*(error/regularization_term)\n",
        "\n",
        "def update_movie_biases(movie_id, movies_data, user_biases, movie_biases, lambda_, gamma):\n",
        "\n",
        "    u = 0 # Number of users rated this movie\n",
        "    error = 0\n",
        "    for user_rating in movies_data[movie_id]:\n",
        "      if user_rating: # make sure that the tuple isnt empty\n",
        "\n",
        "        u +=1\n",
        "        user_id, rating = user_rating\n",
        "        user_index = USER_TO_IDX[user_id]\n",
        "        error+=(rating - user_biases[user_index])\n",
        "\n",
        "    regularization_term = (lambda_*u)+ gamma\n",
        "    movie_biases[movie_id] = lambda_*(error/regularization_term)\n"
      ],
      "metadata": {
        "id": "-j1sL_A8H_yZ"
      },
      "execution_count": 66,
      "outputs": []
    },
    {
      "cell_type": "markdown",
      "source": [
        "Negative Log Likelihood loss function \\\n",
        "$$L = \\frac{\\lambda}{2} \\Sigma_{(u.m)\\in D} (r_{um} - (b_u + b_m))^2 + \\frac{\\lambda}{2} (\\Sigma_u b_u^2 + \\Sigma_u b_m^2) \\\n",
        "$$"
      ],
      "metadata": {
        "id": "-vKhUsLCUTbK"
      }
    },
    {
      "cell_type": "code",
      "source": [
        "def calc_loss(users_data, user_biases, movie_biases, lambda_, gamma):\n",
        "  total_loss = 0\n",
        "  for user_id in range(len(users_data)):\n",
        "    for movie_rating in users_data[user_id]:\n",
        "      # Check for non-empty entries\n",
        "      if movie_rating:\n",
        "        movie_id , rating = movie_rating\n",
        "        movie_index = MOVIE_TO_IDX[movie_id]\n",
        "        predicted_rating = user_biases[user_id] + movie_biases[movie_index]\n",
        "        total_loss += (rating - predicted_rating)**2\n",
        "\n",
        "  # Regularization terms\n",
        "  user_bias_sum = np.dot(user_biases, user_biases)\n",
        "  movie_bias_sum= np.dot(movie_biases, movie_biases)\n",
        "  total_loss = lambda_*total_loss + gamma*user_bias_sum + gamma*movie_bias_sum\n",
        "\n",
        "  return 0.5*total_loss"
      ],
      "metadata": {
        "id": "GRiIUDScILdv"
      },
      "execution_count": 65,
      "outputs": []
    },
    {
      "cell_type": "markdown",
      "source": [
        "Root Mean Squared Error \\\n",
        "$$ RMSE = \\sqrt{\\frac{1}{|D|}\\Sigma_{(u.m)\\in D} (r_{um} - (b_u + b_m))^2}$$"
      ],
      "metadata": {
        "id": "_nXDU8MhVBhx"
      }
    },
    {
      "cell_type": "code",
      "source": [
        "def calc_rmse(users_data, user_biases, movie_biases):\n",
        "  squared_error = 0\n",
        "  count = 0\n",
        "  for user_id in range(len(users_data)):\n",
        "    for movie_rating in users_data[user_id]:\n",
        "      # Check for non-empty entries\n",
        "      if movie_rating:\n",
        "        movie_id , rating = movie_rating\n",
        "        movie_index = MOVIE_TO_IDX[movie_id]\n",
        "\n",
        "        predicted_rating = user_biases[user_id] +  movie_biases[movie_index]\n",
        "        squared_error += (rating - predicted_rating)**2\n",
        "        count+=1  # Increment count of valid ratings\n",
        "  rmse =  np.sqrt(squared_error/count)\n",
        "  return rmse\n",
        "\n"
      ],
      "metadata": {
        "id": "PZfNe54zVBLO"
      },
      "execution_count": 49,
      "outputs": []
    },
    {
      "cell_type": "markdown",
      "source": [
        "Splitting the dataset into train and test datasets, each for the movies and users data"
      ],
      "metadata": {
        "id": "_zvLK0yNW_B1"
      }
    },
    {
      "cell_type": "code",
      "source": [
        "def split(users_data, movies_data, test_ratio=0.2):\n",
        "    U = len(users_data)\n",
        "    M = len(movies_data)\n",
        "\n",
        "    users_data_train = [[] for _ in range(U)]\n",
        "    users_data_test = [[] for _ in range(U)]\n",
        "    movies_data_train = [[] for _ in range(M)]\n",
        "    movies_data_test = [[] for _ in range(M)]\n",
        "\n",
        "    for user_id, user_data in enumerate(users_data):\n",
        "        for movie_rating in user_data:\n",
        "            if np.random.rand() > test_ratio:\n",
        "                # Train set\n",
        "                users_data_train[user_id].append(movie_rating)\n",
        "\n",
        "                # placeholder for missing test entries\n",
        "                users_data_test[user_id].append(())\n",
        "            else:\n",
        "                # Test set\n",
        "                users_data_test[user_id].append(movie_rating)\n",
        "\n",
        "                # placeholder for missing train entries\n",
        "                users_data_train[user_id].append(()) # None or ()\n",
        "\n",
        "    for movie_id, movie_row in enumerate(movies_data):\n",
        "      for user_rating in movie_row:\n",
        "        if np.random.rand()>test_ratio:\n",
        "          movies_data_train[movie_id].append(user_rating)\n",
        "          movies_data_test[movie_id].append(())\n",
        "        else:\n",
        "          movies_data_test[movie_id].append(user_rating)\n",
        "          movies_data_train[movie_id].append(())\n",
        "\n",
        "    return users_data_train, users_data_test, movies_data_train, movies_data_test\n"
      ],
      "metadata": {
        "id": "2R2L5SfsVAw1"
      },
      "execution_count": 51,
      "outputs": []
    },
    {
      "cell_type": "markdown",
      "source": [
        "Training the model"
      ],
      "metadata": {
        "id": "DBbMyJdTYbjl"
      }
    },
    {
      "cell_type": "code",
      "source": [
        "def train_model(users_data, movies_data, iterations, lambda_=0.1, gamma=0.1):\n",
        "\n",
        "      users_data_train, users_data_test, movies_data_train, movies_data_test = split(users_data, movies_data)\n",
        "\n",
        "      losses_list, rmse_train_list, rmse_test_list  = [], [], []\n",
        "      user_biases, movie_biases = init_biases(users_data_train, movies_data_train)\n",
        "\n",
        "      for i in range(iterations):\n",
        "        print(f\"Iteraation: ({i+1}/{iterations})\")\n",
        "        # Update users biases\n",
        "        for user_id in range(len(users_data_train)):\n",
        "            update_user_biases(user_id ,users_data_train, user_biases, movie_biases, lambda_, gamma)\n",
        "        # Update movies biases\n",
        "        for movie_id in range(len(movies_data_train)):\n",
        "            update_movie_biases(movie_id, movies_data_train, user_biases, movie_biases, lambda_, gamma)\n",
        "\n",
        "        # Calculate loss and RMSE values\n",
        "        loss = calc_loss(users_data_train, user_biases, movie_biases, lambda_, gamma)\n",
        "        rmse_train = calc_rmse(users_data_train, user_biases, movie_biases)\n",
        "        rmse_test = calc_rmse(users_data_test, user_biases, movie_biases)\n",
        "\n",
        "        losses_list.append(loss)\n",
        "        rmse_train_list.append(rmse_train)\n",
        "        rmse_test_list.append(rmse_test)\n",
        "\n",
        "\n",
        "        print(f\"Loss: ==> {loss}, RMSE (Train):==> {rmse_train}, RMSE (Test):==> {rmse_test}\")\n",
        "\n",
        "\n",
        "      return losses_list, rmse_train_list, rmse_test_list, user_biases, movie_biases\n",
        "\n"
      ],
      "metadata": {
        "id": "DZPEKKjUYKXb"
      },
      "execution_count": 52,
      "outputs": []
    },
    {
      "cell_type": "markdown",
      "source": [
        "Performing training with different values for the hypereparameters."
      ],
      "metadata": {
        "id": "-TmBzG06ZH_v"
      }
    },
    {
      "cell_type": "code",
      "source": [
        "lambda_values = [0.01, 0.05, 0.1, 0.15, 0.2]\n",
        "gamma_values = [0.001, 0.01, 0.1, 1]\n",
        "losses_values = []\n",
        "rmse_train_values = []\n",
        "rmse_test_values = []\n",
        "\n",
        "for lambda_ in lambda_values:\n",
        "  for gamma in gamma_values:\n",
        "        losses, rmse_train, rmse_test, user_biases, movie_biases = train_model(users_data, movies_data, 10, lambda_, gamma)\n",
        "        losses_values.append(losses)\n",
        "        rmse_train_values.append(rmse_train)\n",
        "        rmse_test_values.append(rmse_test)\n",
        ""
      ],
      "metadata": {
        "colab": {
          "base_uri": "https://localhost:8080/"
        },
        "collapsed": true,
        "id": "-d5KkE50aH1x",
        "outputId": "24f32fca-bf10-40f7-a681-37521f9fd8d5"
      },
      "execution_count": 63,
      "outputs": [
        {
          "output_type": "stream",
          "name": "stdout",
          "text": [
            "Iteraation: (1/10)\n",
            "Loss: ==> 273.6958180229939, RMSE (Train):==> 0.814390657829983, RMSE (Test):==> 0.8302916896730081\n",
            "Iteraation: (2/10)\n",
            "Loss: ==> 263.344019340339, RMSE (Train):==> 0.7981651625386166, RMSE (Test):==> 0.8134484661796209\n",
            "Iteraation: (3/10)\n",
            "Loss: ==> 262.70900124688245, RMSE (Train):==> 0.7970820179405317, RMSE (Test):==> 0.8121283513558147\n",
            "Iteraation: (4/10)\n",
            "Loss: ==> 262.6481450170728, RMSE (Train):==> 0.7969761182782588, RMSE (Test):==> 0.8119436530105766\n",
            "Iteraation: (5/10)\n",
            "Loss: ==> 262.62725138330813, RMSE (Train):==> 0.7969577879657593, RMSE (Test):==> 0.811896342609903\n",
            "Iteraation: (6/10)\n",
            "Loss: ==> 262.60885502545335, RMSE (Train):==> 0.7969504387593158, RMSE (Test):==> 0.8118756336915783\n",
            "Iteraation: (7/10)\n",
            "Loss: ==> 262.59051000879515, RMSE (Train):==> 0.7969448792292423, RMSE (Test):==> 0.8118619410631751\n",
            "Iteraation: (8/10)\n",
            "Loss: ==> 262.5723754323833, RMSE (Train):==> 0.7969397366650041, RMSE (Test):==> 0.811850590399498\n",
            "Iteraation: (9/10)\n",
            "Loss: ==> 262.5546597601782, RMSE (Train):==> 0.7969348298798666, RMSE (Test):==> 0.8118402685583732\n",
            "Iteraation: (10/10)\n",
            "Loss: ==> 262.53746706490375, RMSE (Train):==> 0.7969301613301466, RMSE (Test):==> 0.8118305561410016\n",
            "Iteraation: (1/10)\n",
            "Loss: ==> 320.9457876314084, RMSE (Train):==> 0.8193954943267121, RMSE (Test):==> 0.8270632108107517\n",
            "Iteraation: (2/10)\n",
            "Loss: ==> 311.67129595642217, RMSE (Train):==> 0.8065006440284328, RMSE (Test):==> 0.8135795503866471\n",
            "Iteraation: (3/10)\n",
            "Loss: ==> 310.31024969810807, RMSE (Train):==> 0.8055548602560754, RMSE (Test):==> 0.8126058646392221\n",
            "Iteraation: (4/10)\n",
            "Loss: ==> 309.4450546470264, RMSE (Train):==> 0.805325633498368, RMSE (Test):==> 0.8124368506828439\n",
            "Iteraation: (5/10)\n",
            "Loss: ==> 308.7407482161349, RMSE (Train):==> 0.8052205271582928, RMSE (Test):==> 0.8124055413895388\n",
            "Iteraation: (6/10)\n",
            "Loss: ==> 308.1575028287387, RMSE (Train):==> 0.805168638089328, RMSE (Test):==> 0.8124254363769607\n",
            "Iteraation: (7/10)\n",
            "Loss: ==> 307.67407675363654, RMSE (Train):==> 0.8051489417633056, RMSE (Test):==> 0.8124721006051654\n",
            "Iteraation: (8/10)\n",
            "Loss: ==> 307.2734670964555, RMSE (Train):==> 0.8051512073601924, RMSE (Test):==> 0.8125348102815725\n",
            "Iteraation: (9/10)\n",
            "Loss: ==> 306.9415605414495, RMSE (Train):==> 0.8051690996837624, RMSE (Test):==> 0.8126074925373172\n",
            "Iteraation: (10/10)\n",
            "Loss: ==> 306.6666255909041, RMSE (Train):==> 0.805198174512621, RMSE (Test):==> 0.8126861557644087\n",
            "Iteraation: (1/10)\n",
            "Loss: ==> 620.1569945161757, RMSE (Train):==> 0.8749459014258213, RMSE (Test):==> 0.8859585774886795\n",
            "Iteraation: (2/10)\n",
            "Loss: ==> 589.1084898369263, RMSE (Train):==> 0.8803508190996191, RMSE (Test):==> 0.8909738850609487\n",
            "Iteraation: (3/10)\n",
            "Loss: ==> 578.110434220874, RMSE (Train):==> 0.8859360084901947, RMSE (Test):==> 0.8957310549851287\n",
            "Iteraation: (4/10)\n",
            "Loss: ==> 573.6995122230868, RMSE (Train):==> 0.8905944938005662, RMSE (Test):==> 0.899803534432868\n",
            "Iteraation: (5/10)\n",
            "Loss: ==> 571.9239698402632, RMSE (Train):==> 0.8940987042727349, RMSE (Test):==> 0.9029257449736713\n",
            "Iteraation: (6/10)\n",
            "Loss: ==> 571.2097775066263, RMSE (Train):==> 0.8965526864902039, RMSE (Test):==> 0.9051348535907932\n",
            "Iteraation: (7/10)\n",
            "Loss: ==> 570.9229106838588, RMSE (Train):==> 0.8982035042010141, RMSE (Test):==> 0.9066295049295631\n",
            "Iteraation: (8/10)\n",
            "Loss: ==> 570.8079485431346, RMSE (Train):==> 0.8992889477062573, RMSE (Test):==> 0.907615561297643\n",
            "Iteraation: (9/10)\n",
            "Loss: ==> 570.7620449038802, RMSE (Train):==> 0.8999931372468716, RMSE (Test):==> 0.9082565614047128\n",
            "Iteraation: (10/10)\n",
            "Loss: ==> 570.7438229827015, RMSE (Train):==> 0.9004463043714509, RMSE (Test):==> 0.9086695738762796\n",
            "Iteraation: (1/10)\n",
            "Loss: ==> 1785.4017422686236, RMSE (Train):==> 1.3888614409798306, RMSE (Test):==> 1.387525290091203\n",
            "Iteraation: (2/10)\n",
            "Loss: ==> 1743.067763484778, RMSE (Train):==> 1.4784340981664392, RMSE (Test):==> 1.47636174012754\n",
            "Iteraation: (3/10)\n",
            "Loss: ==> 1741.9149299567605, RMSE (Train):==> 1.494314792876734, RMSE (Test):==> 1.4921445648470553\n",
            "Iteraation: (4/10)\n",
            "Loss: ==> 1741.8863210697828, RMSE (Train):==> 1.497016879433621, RMSE (Test):==> 1.4948311713436386\n",
            "Iteraation: (5/10)\n",
            "Loss: ==> 1741.886184418734, RMSE (Train):==> 1.4974722953367352, RMSE (Test):==> 1.4952840195400607\n",
            "Iteraation: (6/10)\n",
            "Loss: ==> 1741.8862937629488, RMSE (Train):==> 1.4975489245327185, RMSE (Test):==> 1.4953602182915546\n",
            "Iteraation: (7/10)\n",
            "Loss: ==> 1741.886315901839, RMSE (Train):==> 1.497561814927597, RMSE (Test):==> 1.495373036345893\n",
            "Iteraation: (8/10)\n",
            "Loss: ==> 1741.8863197319283, RMSE (Train):==> 1.4975639832445358, RMSE (Test):==> 1.4953751924973855\n",
            "Iteraation: (9/10)\n",
            "Loss: ==> 1741.8863203791993, RMSE (Train):==> 1.497564347980039, RMSE (Test):==> 1.495375555186673\n",
            "Iteraation: (10/10)\n",
            "Loss: ==> 1741.8863204881538, RMSE (Train):==> 1.4975644093327107, RMSE (Test):==> 1.495375616195156\n",
            "Iteraation: (1/10)\n",
            "Loss: ==> 1340.8302728663427, RMSE (Train):==> 0.814244577871486, RMSE (Test):==> 0.8286600064778565\n",
            "Iteraation: (2/10)\n",
            "Loss: ==> 1288.1572384157346, RMSE (Train):==> 0.7979329620969106, RMSE (Test):==> 0.812336235711431\n",
            "Iteraation: (3/10)\n",
            "Loss: ==> 1285.0010623758446, RMSE (Train):==> 0.7969232506583276, RMSE (Test):==> 0.8111881780102478\n",
            "Iteraation: (4/10)\n",
            "Loss: ==> 1284.762883930642, RMSE (Train):==> 0.7968425949794882, RMSE (Test):==> 0.8110560583688664\n",
            "Iteraation: (5/10)\n",
            "Loss: ==> 1284.7309710775166, RMSE (Train):==> 0.7968324085120575, RMSE (Test):==> 0.8110295877103452\n",
            "Iteraation: (6/10)\n",
            "Loss: ==> 1284.7144623864936, RMSE (Train):==> 0.796828898510633, RMSE (Test):==> 0.8110201725720199\n",
            "Iteraation: (7/10)\n",
            "Loss: ==> 1284.6986577962223, RMSE (Train):==> 0.7968261883944731, RMSE (Test):==> 0.8110143498090832\n",
            "Iteraation: (8/10)\n",
            "Loss: ==> 1284.6827069179767, RMSE (Train):==> 0.7968236079477059, RMSE (Test):==> 0.8110093660959595\n",
            "Iteraation: (9/10)\n",
            "Loss: ==> 1284.6668052376576, RMSE (Train):==> 0.7968210832703869, RMSE (Test):==> 0.8110046101375745\n",
            "Iteraation: (10/10)\n",
            "Loss: ==> 1284.6511114116056, RMSE (Train):==> 0.796818615878605, RMSE (Test):==> 0.8109999550940544\n",
            "Iteraation: (1/10)\n",
            "Loss: ==> 1414.3780381473266, RMSE (Train):==> 0.8178314045378118, RMSE (Test):==> 0.816023695847678\n",
            "Iteraation: (2/10)\n",
            "Loss: ==> 1363.1858801257881, RMSE (Train):==> 0.8018395662594028, RMSE (Test):==> 0.8012965628885012\n",
            "Iteraation: (3/10)\n",
            "Loss: ==> 1359.717607128435, RMSE (Train):==> 0.8007088724356769, RMSE (Test):==> 0.8004410104838645\n",
            "Iteraation: (4/10)\n",
            "Loss: ==> 1358.9942002166977, RMSE (Train):==> 0.8005516998164955, RMSE (Test):==> 0.8003451646804046\n",
            "Iteraation: (5/10)\n",
            "Loss: ==> 1358.5048249687213, RMSE (Train):==> 0.8005004304948178, RMSE (Test):==> 0.800312034584313\n",
            "Iteraation: (6/10)\n",
            "Loss: ==> 1358.0691629075995, RMSE (Train):==> 0.8004710440530217, RMSE (Test):==> 0.8002937640366122\n",
            "Iteraation: (7/10)\n",
            "Loss: ==> 1357.6673004063903, RMSE (Train):==> 0.8004493388362482, RMSE (Test):==> 0.8002827357197722\n",
            "Iteraation: (8/10)\n",
            "Loss: ==> 1357.29429921768, RMSE (Train):==> 0.8004315908097234, RMSE (Test):==> 0.8002759561973045\n",
            "Iteraation: (9/10)\n",
            "Loss: ==> 1356.9475914415489, RMSE (Train):==> 0.8004165273516114, RMSE (Test):==> 0.8002719714582253\n",
            "Iteraation: (10/10)\n",
            "Loss: ==> 1356.6252711775387, RMSE (Train):==> 0.8004036071390095, RMSE (Test):==> 0.8002700437711648\n",
            "Iteraation: (1/10)\n",
            "Loss: ==> 1806.3978841968697, RMSE (Train):==> 0.8221489711961046, RMSE (Test):==> 0.845062762155841\n",
            "Iteraation: (2/10)\n",
            "Loss: ==> 1753.8424944647127, RMSE (Train):==> 0.8115930681607687, RMSE (Test):==> 0.8349253442267104\n",
            "Iteraation: (3/10)\n",
            "Loss: ==> 1739.7747544785734, RMSE (Train):==> 0.8109353353767822, RMSE (Test):==> 0.8342881191709256\n",
            "Iteraation: (4/10)\n",
            "Loss: ==> 1730.234633059824, RMSE (Train):==> 0.8108517728831515, RMSE (Test):==> 0.8341676966948436\n",
            "Iteraation: (5/10)\n",
            "Loss: ==> 1723.2346164944984, RMSE (Train):==> 0.8109368921915443, RMSE (Test):==> 0.8342058243931165\n",
            "Iteraation: (6/10)\n",
            "Loss: ==> 1718.072259640814, RMSE (Train):==> 0.8111087593848936, RMSE (Test):==> 0.8343318414369961\n",
            "Iteraation: (7/10)\n",
            "Loss: ==> 1714.2625594781455, RMSE (Train):==> 0.8113241255563064, RMSE (Test):==> 0.834505558703825\n",
            "Iteraation: (8/10)\n",
            "Loss: ==> 1711.450002177257, RMSE (Train):==> 0.8115569810343383, RMSE (Test):==> 0.8347015872271871\n",
            "Iteraation: (9/10)\n",
            "Loss: ==> 1709.3727263825583, RMSE (Train):==> 0.8117913972192133, RMSE (Test):==> 0.8349038239671301\n",
            "Iteraation: (10/10)\n",
            "Loss: ==> 1707.837753714327, RMSE (Train):==> 0.8120177158225125, RMSE (Test):==> 0.8351021881286963\n",
            "Iteraation: (1/10)\n",
            "Loss: ==> 4209.439962429186, RMSE (Train):==> 0.9429851669769412, RMSE (Test):==> 0.9606974519226456\n",
            "Iteraation: (2/10)\n",
            "Loss: ==> 3963.6697937233807, RMSE (Train):==> 0.9663659957443612, RMSE (Test):==> 0.9841346965563901\n",
            "Iteraation: (3/10)\n",
            "Loss: ==> 3907.2124031606027, RMSE (Train):==> 0.9806429457204653, RMSE (Test):==> 0.9984516360499064\n",
            "Iteraation: (4/10)\n",
            "Loss: ==> 3893.5904242433076, RMSE (Train):==> 0.988897950692503, RMSE (Test):==> 1.0066997797664878\n",
            "Iteraation: (5/10)\n",
            "Loss: ==> 3890.332001399511, RMSE (Train):==> 0.9933134189336003, RMSE (Test):==> 1.0111052253392212\n",
            "Iteraation: (6/10)\n",
            "Loss: ==> 3889.569267007414, RMSE (Train):==> 0.995579930350045, RMSE (Test):==> 1.0133652357418066\n",
            "Iteraation: (7/10)\n",
            "Loss: ==> 3889.399161689896, RMSE (Train):==> 0.9967205986067226, RMSE (Test):==> 1.0145023261929573\n",
            "Iteraation: (8/10)\n",
            "Loss: ==> 3889.365570038647, RMSE (Train):==> 0.9972892345602993, RMSE (Test):==> 1.0150691070104567\n",
            "Iteraation: (9/10)\n",
            "Loss: ==> 3889.3612854885423, RMSE (Train):==> 0.997571399922565, RMSE (Test):==> 1.0153503347636532\n",
            "Iteraation: (10/10)\n",
            "Loss: ==> 3889.3621730660457, RMSE (Train):==> 0.9977110981810007, RMSE (Test):==> 1.0154895647062054\n",
            "Iteraation: (1/10)\n",
            "Loss: ==> 2702.229235761067, RMSE (Train):==> 0.8175860657194072, RMSE (Test):==> 0.8193503054758124\n",
            "Iteraation: (2/10)\n",
            "Loss: ==> 2594.2137526264446, RMSE (Train):==> 0.8009969516405968, RMSE (Test):==> 0.803268465649233\n",
            "Iteraation: (3/10)\n",
            "Loss: ==> 2587.6718306348853, RMSE (Train):==> 0.7999690110130356, RMSE (Test):==> 0.8022757883410899\n",
            "Iteraation: (4/10)\n",
            "Loss: ==> 2587.2459098352956, RMSE (Train):==> 0.7998993134431125, RMSE (Test):==> 0.8021955661126775\n",
            "Iteraation: (5/10)\n",
            "Loss: ==> 2587.220892119965, RMSE (Train):==> 0.7998952252195816, RMSE (Test):==> 0.8021826859451769\n",
            "Iteraation: (6/10)\n",
            "Loss: ==> 2587.206712701557, RMSE (Train):==> 0.7998938787421556, RMSE (Test):==> 0.8021768907389123\n",
            "Iteraation: (7/10)\n",
            "Loss: ==> 2587.1836738886086, RMSE (Train):==> 0.7998914861376093, RMSE (Test):==> 0.8021725827310414\n",
            "Iteraation: (8/10)\n",
            "Loss: ==> 2587.1556367053613, RMSE (Train):==> 0.7998884165776947, RMSE (Test):==> 0.802168826824893\n",
            "Iteraation: (9/10)\n",
            "Loss: ==> 2587.125563506904, RMSE (Train):==> 0.7998850540200326, RMSE (Test):==> 0.8021653421207301\n",
            "Iteraation: (10/10)\n",
            "Loss: ==> 2587.0949268848017, RMSE (Train):==> 0.7998816005550228, RMSE (Test):==> 0.8021620203598671\n",
            "Iteraation: (1/10)\n",
            "Loss: ==> 2742.139985696147, RMSE (Train):==> 0.8150496328081955, RMSE (Test):==> 0.8225318300174945\n",
            "Iteraation: (2/10)\n",
            "Loss: ==> 2638.368474527966, RMSE (Train):==> 0.7987977365293369, RMSE (Test):==> 0.8093707787823491\n",
            "Iteraation: (3/10)\n",
            "Loss: ==> 2632.0940504877044, RMSE (Train):==> 0.7977244444142368, RMSE (Test):==> 0.8089268740383702\n",
            "Iteraation: (4/10)\n",
            "Loss: ==> 2631.4501300080337, RMSE (Train):==> 0.7976116517480681, RMSE (Test):==> 0.8089424008147528\n",
            "Iteraation: (5/10)\n",
            "Loss: ==> 2631.2108152193377, RMSE (Train):==> 0.7975877405252753, RMSE (Test):==> 0.8089411297727082\n",
            "Iteraation: (6/10)\n",
            "Loss: ==> 2631.0136170202118, RMSE (Train):==> 0.797577709400931, RMSE (Test):==> 0.8089329015380256\n",
            "Iteraation: (7/10)\n",
            "Loss: ==> 2630.827850536427, RMSE (Train):==> 0.797571271134322, RMSE (Test):==> 0.8089252512941792\n",
            "Iteraation: (8/10)\n",
            "Loss: ==> 2630.649657314772, RMSE (Train):==> 0.7975661571707457, RMSE (Test):==> 0.8089191121097942\n",
            "Iteraation: (9/10)\n",
            "Loss: ==> 2630.4780863202654, RMSE (Train):==> 0.7975616953935163, RMSE (Test):==> 0.8089140847978153\n",
            "Iteraation: (10/10)\n",
            "Loss: ==> 2630.312689735446, RMSE (Train):==> 0.7975576489143359, RMSE (Test):==> 0.8089097702889272\n",
            "Iteraation: (1/10)\n",
            "Loss: ==> 3203.1181810816474, RMSE (Train):==> 0.8190180618540954, RMSE (Test):==> 0.8217639567637028\n",
            "Iteraation: (2/10)\n",
            "Loss: ==> 3109.7371779682917, RMSE (Train):==> 0.8059640319823923, RMSE (Test):==> 0.8100214556942671\n",
            "Iteraation: (3/10)\n",
            "Loss: ==> 3096.5470393701353, RMSE (Train):==> 0.8050639120965405, RMSE (Test):==> 0.8093047395449721\n",
            "Iteraation: (4/10)\n",
            "Loss: ==> 3088.2979578145278, RMSE (Train):==> 0.8048805206718372, RMSE (Test):==> 0.8091250009204419\n",
            "Iteraation: (5/10)\n",
            "Loss: ==> 3081.591078112434, RMSE (Train):==> 0.804814563772152, RMSE (Test):==> 0.8090339566827592\n",
            "Iteraation: (6/10)\n",
            "Loss: ==> 3076.0330715023474, RMSE (Train):==> 0.8047962752494094, RMSE (Test):==> 0.808987294043921\n",
            "Iteraation: (7/10)\n",
            "Loss: ==> 3071.4212689076116, RMSE (Train):==> 0.8048056505049692, RMSE (Test):==> 0.8089694638818995\n",
            "Iteraation: (8/10)\n",
            "Loss: ==> 3067.5947797734552, RMSE (Train):==> 0.8048331891879569, RMSE (Test):==> 0.8089716683077715\n",
            "Iteraation: (9/10)\n",
            "Loss: ==> 3064.4202644273423, RMSE (Train):==> 0.8048731230390046, RMSE (Test):==> 0.8089881597813631\n",
            "Iteraation: (10/10)\n",
            "Loss: ==> 3061.7868841957143, RMSE (Train):==> 0.8049214729413439, RMSE (Test):==> 0.8090148627624153\n",
            "Iteraation: (1/10)\n",
            "Loss: ==> 6198.125062835964, RMSE (Train):==> 0.8771339953295252, RMSE (Test):==> 0.8854951419444796\n",
            "Iteraation: (2/10)\n",
            "Loss: ==> 5888.328174251681, RMSE (Train):==> 0.8824914918366319, RMSE (Test):==> 0.8904989807916506\n",
            "Iteraation: (3/10)\n",
            "Loss: ==> 5778.948535804325, RMSE (Train):==> 0.8881098379481062, RMSE (Test):==> 0.8954656942354646\n",
            "Iteraation: (4/10)\n",
            "Loss: ==> 5735.252661179128, RMSE (Train):==> 0.892774447899988, RMSE (Test):==> 0.8996710974225504\n",
            "Iteraation: (5/10)\n",
            "Loss: ==> 5717.758093856692, RMSE (Train):==> 0.8962759016520289, RMSE (Test):==> 0.9028779965208364\n",
            "Iteraation: (6/10)\n",
            "Loss: ==> 5710.774179435644, RMSE (Train):==> 0.898724784981409, RMSE (Test):==> 0.905140599091024\n",
            "Iteraation: (7/10)\n",
            "Loss: ==> 5707.999813205783, RMSE (Train):==> 0.90037041130618, RMSE (Test):==> 0.9066685205665235\n",
            "Iteraation: (8/10)\n",
            "Loss: ==> 5706.906439721622, RMSE (Train):==> 0.9014513680624701, RMSE (Test):==> 0.9076750267735928\n",
            "Iteraation: (9/10)\n",
            "Loss: ==> 5706.4811687613565, RMSE (Train):==> 0.902151976888149, RMSE (Test):==> 0.9083284975318416\n",
            "Iteraation: (10/10)\n",
            "Loss: ==> 5706.319405098791, RMSE (Train):==> 0.9026024192276, RMSE (Test):==> 0.9087490732385991\n",
            "Iteraation: (1/10)\n",
            "Loss: ==> 4073.7244189828393, RMSE (Train):==> 0.8184483563035617, RMSE (Test):==> 0.8170253174605577\n",
            "Iteraation: (2/10)\n",
            "Loss: ==> 3913.5482856957797, RMSE (Train):==> 0.8021426681121431, RMSE (Test):==> 0.7992993997805559\n",
            "Iteraation: (3/10)\n",
            "Loss: ==> 3904.011120445829, RMSE (Train):==> 0.8011528668434231, RMSE (Test):==> 0.7979014014888081\n",
            "Iteraation: (4/10)\n",
            "Loss: ==> 3903.3935417388807, RMSE (Train):==> 0.8010862272387995, RMSE (Test):==> 0.7977358017151248\n",
            "Iteraation: (5/10)\n",
            "Loss: ==> 3903.356751094745, RMSE (Train):==> 0.801081447129397, RMSE (Test):==> 0.7977094803647959\n",
            "Iteraation: (6/10)\n",
            "Loss: ==> 3903.354310100376, RMSE (Train):==> 0.8010808532952712, RMSE (Test):==> 0.7977052363213102\n",
            "Iteraation: (7/10)\n",
            "Loss: ==> 3903.3535304094053, RMSE (Train):==> 0.8010806357049608, RMSE (Test):==> 0.7977049579104163\n",
            "Iteraation: (8/10)\n",
            "Loss: ==> 3903.3533487081636, RMSE (Train):==> 0.8010805478029558, RMSE (Test):==> 0.797705236233602\n",
            "Iteraation: (9/10)\n",
            "Loss: ==> 3903.3537157205483, RMSE (Train):==> 0.8010805405996597, RMSE (Test):==> 0.7977054619934325\n",
            "Iteraation: (10/10)\n",
            "Loss: ==> 3903.3544437040946, RMSE (Train):==> 0.801080579838943, RMSE (Test):==> 0.7977055819365143\n",
            "Iteraation: (1/10)\n",
            "Loss: ==> 4075.398502435365, RMSE (Train):==> 0.8149918985140383, RMSE (Test):==> 0.8264800536476988\n",
            "Iteraation: (2/10)\n",
            "Loss: ==> 3919.247374196003, RMSE (Train):==> 0.7987524668092595, RMSE (Test):==> 0.810652520950542\n",
            "Iteraation: (3/10)\n",
            "Loss: ==> 3909.5441812222516, RMSE (Train):==> 0.7976725939008357, RMSE (Test):==> 0.8095932702418182\n",
            "Iteraation: (4/10)\n",
            "Loss: ==> 3908.643795514464, RMSE (Train):==> 0.7975641127460192, RMSE (Test):==> 0.809487762715166\n",
            "Iteraation: (5/10)\n",
            "Loss: ==> 3908.4106441710464, RMSE (Train):==> 0.7975427807877331, RMSE (Test):==> 0.8094685553879699\n",
            "Iteraation: (6/10)\n",
            "Loss: ==> 3908.2472325966496, RMSE (Train):==> 0.7975339454201975, RMSE (Test):==> 0.8094626436191346\n",
            "Iteraation: (7/10)\n",
            "Loss: ==> 3908.097741743492, RMSE (Train):==> 0.7975280487811777, RMSE (Test):==> 0.8094602619808492\n",
            "Iteraation: (8/10)\n",
            "Loss: ==> 3907.9544253158224, RMSE (Train):==> 0.7975231379795196, RMSE (Test):==> 0.8094591379172098\n",
            "Iteraation: (9/10)\n",
            "Loss: ==> 3907.8155521688836, RMSE (Train):==> 0.7975186659534365, RMSE (Test):==> 0.8094585373537097\n",
            "Iteraation: (10/10)\n",
            "Loss: ==> 3907.6805404669417, RMSE (Train):==> 0.7975144492104325, RMSE (Test):==> 0.809458189307548\n",
            "Iteraation: (1/10)\n",
            "Loss: ==> 4563.024330671025, RMSE (Train):==> 0.8155191070761101, RMSE (Test):==> 0.8289066633671412\n",
            "Iteraation: (2/10)\n",
            "Loss: ==> 4421.869232288419, RMSE (Train):==> 0.8012438545502032, RMSE (Test):==> 0.8158626185104862\n",
            "Iteraation: (3/10)\n",
            "Loss: ==> 4407.854997696032, RMSE (Train):==> 0.800218469489771, RMSE (Test):==> 0.8151995872176698\n",
            "Iteraation: (4/10)\n",
            "Loss: ==> 4401.015835483015, RMSE (Train):==> 0.8000443530605029, RMSE (Test):==> 0.8151107714453018\n",
            "Iteraation: (5/10)\n",
            "Loss: ==> 4395.390645838727, RMSE (Train):==> 0.7999858055325222, RMSE (Test):==> 0.8150632416068694\n",
            "Iteraation: (6/10)\n",
            "Loss: ==> 4390.493828104856, RMSE (Train):==> 0.7999605747172872, RMSE (Test):==> 0.8150305250823242\n",
            "Iteraation: (7/10)\n",
            "Loss: ==> 4386.202489016578, RMSE (Train):==> 0.7999508866693341, RMSE (Test):==> 0.8150092981473153\n",
            "Iteraation: (8/10)\n",
            "Loss: ==> 4382.4368516959275, RMSE (Train):==> 0.7999507448454152, RMSE (Test):==> 0.8149973087090284\n",
            "Iteraation: (9/10)\n",
            "Loss: ==> 4379.13071224861, RMSE (Train):==> 0.7999573522878769, RMSE (Test):==> 0.8149927308890007\n",
            "Iteraation: (10/10)\n",
            "Loss: ==> 4376.226694303051, RMSE (Train):==> 0.7999690320085235, RMSE (Test):==> 0.8149941102581542\n",
            "Iteraation: (1/10)\n",
            "Loss: ==> 7875.705151101015, RMSE (Train):==> 0.8562546512547456, RMSE (Test):==> 0.8580258926417178\n",
            "Iteraation: (2/10)\n",
            "Loss: ==> 7536.256219077622, RMSE (Train):==> 0.8551265886115824, RMSE (Test):==> 0.8585049579184169\n",
            "Iteraation: (3/10)\n",
            "Loss: ==> 7401.421046911043, RMSE (Train):==> 0.8574079969554576, RMSE (Test):==> 0.861283094057152\n",
            "Iteraation: (4/10)\n",
            "Loss: ==> 7335.372276824431, RMSE (Train):==> 0.8598529209489831, RMSE (Test):==> 0.8640279247654751\n",
            "Iteraation: (5/10)\n",
            "Loss: ==> 7302.847042708207, RMSE (Train):==> 0.8620872189346812, RMSE (Test):==> 0.866469670037639\n",
            "Iteraation: (6/10)\n",
            "Loss: ==> 7286.89749449176, RMSE (Train):==> 0.8639278268573816, RMSE (Test):==> 0.8684563955651958\n",
            "Iteraation: (7/10)\n",
            "Loss: ==> 7279.128421423997, RMSE (Train):==> 0.8653580211927853, RMSE (Test):==> 0.8699897272024799\n",
            "Iteraation: (8/10)\n",
            "Loss: ==> 7275.381610576096, RMSE (Train):==> 0.8664321401325928, RMSE (Test):==> 0.8711366521622083\n",
            "Iteraation: (9/10)\n",
            "Loss: ==> 7273.601702547042, RMSE (Train):==> 0.8672221679126577, RMSE (Test):==> 0.871978068461907\n",
            "Iteraation: (10/10)\n",
            "Loss: ==> 7272.775888768785, RMSE (Train):==> 0.8677955277279019, RMSE (Test):==> 0.8725876959118067\n",
            "Iteraation: (1/10)\n",
            "Loss: ==> 5374.6993533204695, RMSE (Train):==> 0.8159424680638144, RMSE (Test):==> 0.8244309772398688\n",
            "Iteraation: (2/10)\n",
            "Loss: ==> 5163.4946747865115, RMSE (Train):==> 0.7997104358754746, RMSE (Test):==> 0.8072770766342912\n",
            "Iteraation: (3/10)\n",
            "Loss: ==> 5150.816064210973, RMSE (Train):==> 0.7987199624621975, RMSE (Test):==> 0.8059318718437779\n",
            "Iteraation: (4/10)\n",
            "Loss: ==> 5149.914133135581, RMSE (Train):==> 0.7986484062866988, RMSE (Test):==> 0.8057636762478094\n",
            "Iteraation: (5/10)\n",
            "Loss: ==> 5149.821227559859, RMSE (Train):==> 0.7986413068401439, RMSE (Test):==> 0.8057288632651307\n",
            "Iteraation: (6/10)\n",
            "Loss: ==> 5149.791570803978, RMSE (Train):==> 0.7986396207015506, RMSE (Test):==> 0.8057172851323176\n",
            "Iteraation: (7/10)\n",
            "Loss: ==> 5149.770833905986, RMSE (Train):==> 0.7986387802942753, RMSE (Test):==> 0.8057112395455639\n",
            "Iteraation: (8/10)\n",
            "Loss: ==> 5149.75376183123, RMSE (Train):==> 0.7986382679667331, RMSE (Test):==> 0.8057067938276635\n",
            "Iteraation: (9/10)\n",
            "Loss: ==> 5149.739086754462, RMSE (Train):==> 0.7986379491474964, RMSE (Test):==> 0.8057029062970628\n",
            "Iteraation: (10/10)\n",
            "Loss: ==> 5149.726217467118, RMSE (Train):==> 0.79863776534758, RMSE (Test):==> 0.8056992720624878\n",
            "Iteraation: (1/10)\n",
            "Loss: ==> 5427.371556034326, RMSE (Train):==> 0.8156403036266042, RMSE (Test):==> 0.8242282133325501\n",
            "Iteraation: (2/10)\n",
            "Loss: ==> 5216.151044145577, RMSE (Train):==> 0.7992524961616392, RMSE (Test):==> 0.80840439693506\n",
            "Iteraation: (3/10)\n",
            "Loss: ==> 5202.894556101141, RMSE (Train):==> 0.7981740156956062, RMSE (Test):==> 0.8074097389894782\n",
            "Iteraation: (4/10)\n",
            "Loss: ==> 5201.484906251465, RMSE (Train):==> 0.7980623095826288, RMSE (Test):==> 0.8073125086315268\n",
            "Iteraation: (5/10)\n",
            "Loss: ==> 5200.9716328239965, RMSE (Train):==> 0.7980345058327265, RMSE (Test):==> 0.8072831686336505\n",
            "Iteraation: (6/10)\n",
            "Loss: ==> 5200.558395925806, RMSE (Train):==> 0.7980184797073006, RMSE (Test):==> 0.8072625664473377\n",
            "Iteraation: (7/10)\n",
            "Loss: ==> 5200.172882980548, RMSE (Train):==> 0.7980055162492135, RMSE (Test):==> 0.807244810379449\n",
            "Iteraation: (8/10)\n",
            "Loss: ==> 5199.80573670458, RMSE (Train):==> 0.797993922606029, RMSE (Test):==> 0.8072286371910954\n",
            "Iteraation: (9/10)\n",
            "Loss: ==> 5199.454935647704, RMSE (Train):==> 0.7979832270688273, RMSE (Test):==> 0.8072135559815545\n",
            "Iteraation: (10/10)\n",
            "Loss: ==> 5199.119650126109, RMSE (Train):==> 0.7979732614184494, RMSE (Test):==> 0.807199340535929\n",
            "Iteraation: (1/10)\n",
            "Loss: ==> 5942.687417806938, RMSE (Train):==> 0.8167753204697328, RMSE (Test):==> 0.8178020027636522\n",
            "Iteraation: (2/10)\n",
            "Loss: ==> 5749.559102558531, RMSE (Train):==> 0.8018756282434242, RMSE (Test):==> 0.8038928856322806\n",
            "Iteraation: (3/10)\n",
            "Loss: ==> 5732.786514176875, RMSE (Train):==> 0.8008008496550462, RMSE (Test):==> 0.8030238772157559\n",
            "Iteraation: (4/10)\n",
            "Loss: ==> 5725.798818020473, RMSE (Train):==> 0.8006223513359662, RMSE (Test):==> 0.8029064206065007\n",
            "Iteraation: (5/10)\n",
            "Loss: ==> 5720.133033567805, RMSE (Train):==> 0.8005600575785173, RMSE (Test):==> 0.802863935669874\n",
            "Iteraation: (6/10)\n",
            "Loss: ==> 5715.143572038255, RMSE (Train):==> 0.8005285438267103, RMSE (Test):==> 0.8028385033329649\n",
            "Iteraation: (7/10)\n",
            "Loss: ==> 5710.709651551493, RMSE (Train):==> 0.8005105276076772, RMSE (Test):==> 0.8028218608583776\n",
            "Iteraation: (8/10)\n",
            "Loss: ==> 5706.765943779022, RMSE (Train):==> 0.8005006962042096, RMSE (Test):==> 0.8028119623286559\n",
            "Iteraation: (9/10)\n",
            "Loss: ==> 5703.259360485161, RMSE (Train):==> 0.8004968039150034, RMSE (Test):==> 0.802807785960632\n",
            "Iteraation: (10/10)\n",
            "Loss: ==> 5700.143052345289, RMSE (Train):==> 0.8004975961326355, RMSE (Test):==> 0.8028085216000146\n",
            "Iteraation: (1/10)\n",
            "Loss: ==> 9464.249706495293, RMSE (Train):==> 0.844967483808341, RMSE (Test):==> 0.8478144384682126\n",
            "Iteraation: (2/10)\n",
            "Loss: ==> 9104.286304528934, RMSE (Train):==> 0.8407151249758316, RMSE (Test):==> 0.8446391340955707\n",
            "Iteraation: (3/10)\n",
            "Loss: ==> 8958.490469924305, RMSE (Train):==> 0.8415984528588126, RMSE (Test):==> 0.8458441446391625\n",
            "Iteraation: (4/10)\n",
            "Loss: ==> 8878.166363405448, RMSE (Train):==> 0.8428969445528938, RMSE (Test):==> 0.8473289627855918\n",
            "Iteraation: (5/10)\n",
            "Loss: ==> 8833.35343831379, RMSE (Train):==> 0.8442874205714345, RMSE (Test):==> 0.8488546876054645\n",
            "Iteraation: (6/10)\n",
            "Loss: ==> 8808.396191142776, RMSE (Train):==> 0.8455739795273557, RMSE (Test):==> 0.8502441126266818\n",
            "Iteraation: (7/10)\n",
            "Loss: ==> 8794.544679214041, RMSE (Train):==> 0.8466757323568375, RMSE (Test):==> 0.8514245219339059\n",
            "Iteraation: (8/10)\n",
            "Loss: ==> 8786.893813286182, RMSE (Train):==> 0.847578369073447, RMSE (Test):==> 0.8523871445086587\n",
            "Iteraation: (9/10)\n",
            "Loss: ==> 8782.695915974078, RMSE (Train):==> 0.8482979644836925, RMSE (Test):==> 0.8531523230986561\n",
            "Iteraation: (10/10)\n",
            "Loss: ==> 8780.414020602093, RMSE (Train):==> 0.848861510624042, RMSE (Test):==> 0.8537503999224035\n"
          ]
        }
      ]
    },
    {
      "cell_type": "markdown",
      "source": [
        "plot of the results"
      ],
      "metadata": {
        "id": "DvZMr9F-b6vR"
      }
    },
    {
      "cell_type": "code",
      "source": [
        "def plot_all_results(losses_values, rmse_train_values, rmse_test_values, lambda_values, gamma_values):\n",
        "    fig, axes = plt.subplots(1, 3, figsize=(18, 6))\n",
        "\n",
        "    # Total loss plot\n",
        "    for i, losses in enumerate(losses_values):\n",
        "        lambda_idx = i // len(gamma_values)\n",
        "        gamma_idx = i % len(gamma_values)\n",
        "        label = f\"λ={lambda_values[lambda_idx]}, γ={gamma_values[gamma_idx]}\"\n",
        "        axes[0].plot(losses, label=label)\n",
        "    axes[0].set_title(\"Total Loss vs. Iterations\")\n",
        "    axes[0].set_xlabel(\"Iterations\")\n",
        "    axes[0].set_ylabel(\"Total Loss\")\n",
        "    axes[0].legend(fontsize=8)\n",
        "\n",
        "    # RMSE (Train) plot\n",
        "    for i, rmse_train in enumerate(rmse_train_values):\n",
        "        lambda_idx = i // len(gamma_values)\n",
        "        gamma_idx = i % len(gamma_values)\n",
        "        label = f\"λ={lambda_values[lambda_idx]}, γ={gamma_values[gamma_idx]}\"\n",
        "        axes[1].plot(rmse_train, label=label)\n",
        "    axes[1].set_title(\"RMSE (Train) vs. Iterations\")\n",
        "    axes[1].set_xlabel(\"Iterations\")\n",
        "    axes[1].set_ylabel(\"RMSE (Train)\")\n",
        "    axes[1].legend(fontsize=8)\n",
        "\n",
        "    # RMSE (Test) plot\n",
        "    for i, rmse_test in enumerate(rmse_test_values):\n",
        "        lambda_idx = i // len(gamma_values)\n",
        "        gamma_idx = i % len(gamma_values)\n",
        "        label = f\"λ={lambda_values[lambda_idx]}, γ={gamma_values[gamma_idx]}\"\n",
        "        axes[2].plot(rmse_test, label=label)\n",
        "    axes[2].set_title(\"RMSE (Test) vs. Iterations\")\n",
        "    axes[2].set_xlabel(\"Iterations\")\n",
        "    axes[2].set_ylabel(\"RMSE (Test)\")\n",
        "    axes[2].legend(fontsize=8)\n",
        "\n",
        "    plt.tight_layout()\n",
        "    plt.show()\n",
        "\n",
        "plot_all_results(losses_values, rmse_train_values, rmse_test_values, lambda_values, gamma_values)\n"
      ],
      "metadata": {
        "colab": {
          "base_uri": "https://localhost:8080/",
          "height": 627
        },
        "id": "Ab0N5_q8bV0n",
        "outputId": "09d3ff8f-e57e-4c09-9933-97cd4cac16e8"
      },
      "execution_count": 64,
      "outputs": [
        {
          "output_type": "display_data",
          "data": {
            "text/plain": [
              "<Figure size 1800x600 with 3 Axes>"
            ],
            "image/png": "[encoded data removed]"
          },
          "metadata": {}
        }
      ]
    }
  ]
}